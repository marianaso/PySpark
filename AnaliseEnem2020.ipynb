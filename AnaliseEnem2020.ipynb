{
  "nbformat": 4,
  "nbformat_minor": 0,
  "metadata": {
    "colab": {
      "provenance": [],
      "include_colab_link": true
    },
    "kernelspec": {
      "name": "python3",
      "display_name": "Python 3"
    },
    "language_info": {
      "name": "python"
    }
  },
  "cells": [
    {
      "cell_type": "markdown",
      "metadata": {
        "id": "view-in-github",
        "colab_type": "text"
      },
      "source": [
        "<a href=\"https://colab.research.google.com/github/marianaso/PySpark/blob/main/AnaliseEnem2020.ipynb\" target=\"_parent\"><img src=\"https://colab.research.google.com/assets/colab-badge.svg\" alt=\"Open In Colab\"/></a>"
      ]
    },
    {
      "cell_type": "code",
      "execution_count": null,
      "metadata": {
        "colab": {
          "base_uri": "https://localhost:8080/"
        },
        "id": "hzWpOcweDIO5",
        "outputId": "fd8e3025-8249-45bf-efc1-7b19ae679e2b"
      },
      "outputs": [
        {
          "output_type": "stream",
          "name": "stdout",
          "text": [
            "Looking in indexes: https://pypi.org/simple, https://us-python.pkg.dev/colab-wheels/public/simple/\n",
            "Collecting pyspark\n",
            "  Downloading pyspark-3.3.2.tar.gz (281.4 MB)\n",
            "\u001b[2K     \u001b[90m━━━━━━━━━━━━━━━━━━━━━━━━━━━━━━━━━━━━━━━\u001b[0m \u001b[32m281.4/281.4 MB\u001b[0m \u001b[31m4.3 MB/s\u001b[0m eta \u001b[36m0:00:00\u001b[0m\n",
            "\u001b[?25h  Preparing metadata (setup.py) ... \u001b[?25l\u001b[?25hdone\n",
            "Collecting py4j==0.10.9.5\n",
            "  Downloading py4j-0.10.9.5-py2.py3-none-any.whl (199 kB)\n",
            "\u001b[2K     \u001b[90m━━━━━━━━━━━━━━━━━━━━━━━━━━━━━━━━━━━━━━\u001b[0m \u001b[32m199.7/199.7 KB\u001b[0m \u001b[31m15.4 MB/s\u001b[0m eta \u001b[36m0:00:00\u001b[0m\n",
            "\u001b[?25hBuilding wheels for collected packages: pyspark\n",
            "  Building wheel for pyspark (setup.py) ... \u001b[?25l\u001b[?25hdone\n",
            "  Created wheel for pyspark: filename=pyspark-3.3.2-py2.py3-none-any.whl size=281824028 sha256=02d6498e8b5a5f432bcb061dcf867fae38b67dddd9300dea8af30e1e1e5279d2\n",
            "  Stored in directory: /root/.cache/pip/wheels/6c/e3/9b/0525ce8a69478916513509d43693511463c6468db0de237c86\n",
            "Successfully built pyspark\n",
            "Installing collected packages: py4j, pyspark\n",
            "  Attempting uninstall: py4j\n",
            "    Found existing installation: py4j 0.10.9.7\n",
            "    Uninstalling py4j-0.10.9.7:\n",
            "      Successfully uninstalled py4j-0.10.9.7\n",
            "Successfully installed py4j-0.10.9.5 pyspark-3.3.2\n"
          ]
        }
      ],
      "source": [
        "!pip install pyspark"
      ]
    },
    {
      "cell_type": "code",
      "source": [
        "from pyspark.sql import SparkSession\n",
        "\n",
        "spark = SparkSession.builder \\\n",
        "    .master('local[*]') \\\n",
        "    .appName(\"Enem 2020\") \\\n",
        "    .config('spark.ui.port', '4050') \\\n",
        "    .getOrCreate()"
      ],
      "metadata": {
        "id": "SH5yaVzIDP2e"
      },
      "execution_count": null,
      "outputs": []
    },
    {
      "cell_type": "code",
      "source": [
        "from google.colab import drive\n",
        "drive.mount('/content/drive')"
      ],
      "metadata": {
        "colab": {
          "base_uri": "https://localhost:8080/"
        },
        "id": "WEjzrH0wDTqj",
        "outputId": "b25c80a6-ddb5-4244-b1fd-125292c6a7c3"
      },
      "execution_count": null,
      "outputs": [
        {
          "output_type": "stream",
          "name": "stdout",
          "text": [
            "Mounted at /content/drive\n"
          ]
        }
      ]
    },
    {
      "cell_type": "code",
      "source": [
        "import zipfile"
      ],
      "metadata": {
        "id": "g-qlqc3RDVc-"
      },
      "execution_count": null,
      "outputs": []
    },
    {
      "cell_type": "code",
      "source": [
        "zipfile.ZipFile('/content/drive/MyDrive/Spark/microdados_enem_2020.zip', 'r', ).extractall('/content/drive/MyDrive/Spark/ENEM/')"
      ],
      "metadata": {
        "id": "Im4rf0haDW25"
      },
      "execution_count": null,
      "outputs": []
    },
    {
      "cell_type": "code",
      "source": [
        "dados = spark.read.csv('/content/drive/MyDrive/Spark/ENEM/DADOS/MICRODADOS_ENEM_2020.csv', sep=';', inferSchema=True, header=True, encoding = 'utf-8')"
      ],
      "metadata": {
        "id": "bQmRWMiVERqb"
      },
      "execution_count": null,
      "outputs": []
    },
    {
      "cell_type": "code",
      "source": [
        "from pyspark.sql import functions as f"
      ],
      "metadata": {
        "id": "KFUhl7BqFw7p"
      },
      "execution_count": null,
      "outputs": []
    },
    {
      "cell_type": "code",
      "source": [
        "dados.createOrReplaceTempView(\"dados\")"
      ],
      "metadata": {
        "id": "sn5B1lZbF4V8"
      },
      "execution_count": null,
      "outputs": []
    },
    {
      "cell_type": "code",
      "source": [
        "##Quantos alunos não quiseram declarar a cor/raça em 2020 (Entenda a opção “não declarado” nessa pergunta)?\n",
        "\n",
        "spark\\\n",
        "    .sql(\"\"\"\n",
        "        SELECT count(*) \n",
        "            FROM dados\n",
        "            WHERE TP_COR_RACA = 0\n",
        "    \"\"\")\\\n",
        "    .show()"
      ],
      "metadata": {
        "id": "SxrFzYSlI9LR"
      },
      "execution_count": null,
      "outputs": []
    },
    {
      "cell_type": "code",
      "source": [
        "##Qual é o número de alunos do Sexo Feminino que estudaram em escola no estado de São Paulo?\n",
        "\n",
        "spark\\\n",
        "    .sql(\"\"\"\n",
        "        SELECT count(*) \n",
        "            FROM dados\n",
        "            WHERE TP_SEXO = 'F' AND SG_UF_ESC = 'SP'\n",
        "    \"\"\")\\\n",
        "    .show()"
      ],
      "metadata": {
        "colab": {
          "base_uri": "https://localhost:8080/"
        },
        "id": "-Fs8TvytIcni",
        "outputId": "128433d7-8e2e-4e65-a415-cd38429f613a"
      },
      "execution_count": null,
      "outputs": [
        {
          "output_type": "stream",
          "name": "stdout",
          "text": [
            "+--------+\n",
            "|count(1)|\n",
            "+--------+\n",
            "|   91480|\n",
            "+--------+\n",
            "\n"
          ]
        }
      ]
    },
    {
      "cell_type": "code",
      "source": [
        "##Quantos alunos do sexo feminino que estudaram em escola no estado do Rio Grande do Sul possuem EXATAMENTE uma geladeira em casa?\n",
        "\n",
        "spark\\\n",
        "    .sql(\"\"\"\n",
        "        SELECT count(*) \n",
        "            FROM dados\n",
        "            WHERE TP_SEXO = 'F' AND SG_UF_ESC = 'RS' AND Q012 = 'B'\n",
        "    \"\"\")\\\n",
        "    .show()"
      ],
      "metadata": {
        "colab": {
          "base_uri": "https://localhost:8080/"
        },
        "id": "dOUhqj8ZJKZ6",
        "outputId": "f40cc8bb-db9b-45f8-de69-64feb22b8d64"
      },
      "execution_count": null,
      "outputs": [
        {
          "output_type": "stream",
          "name": "stdout",
          "text": [
            "+--------+\n",
            "|count(1)|\n",
            "+--------+\n",
            "|   18680|\n",
            "+--------+\n",
            "\n"
          ]
        }
      ]
    },
    {
      "cell_type": "code",
      "source": [
        "##Qual é o segundo estado brasileiro (considere a coluna SG_UF_ESC) em que estudaram mais alunos no ENEM 2020?\n",
        "\n",
        "spark\\\n",
        "    .sql(\"\"\"\n",
        "        SELECT SG_UF_ESC, COUNT(SG_UF_ESC) AS NUMERO_ALUNOS\n",
        "            FROM dados\n",
        "            GROUP BY SG_UF_ESC\n",
        "            ORDER BY NUMERO_ALUNOS DESC\n",
        "    \"\"\")\\\n",
        "    .show()"
      ],
      "metadata": {
        "id": "AbQwrIRPJ3hF"
      },
      "execution_count": null,
      "outputs": []
    },
    {
      "cell_type": "code",
      "source": [
        "##Qual é o estado brasileiro (considere a coluna SG_UF_ESC) possui o menor número de alunos cuja mãe possui ensino superior completo?\n",
        "\n",
        "spark\\\n",
        "    .sql(\"\"\"\n",
        "        SELECT SG_UF_ESC, COUNT(SG_UF_ESC) AS NUMERO_ALUNOS\n",
        "            FROM dados\n",
        "            WHERE Q002 = 'F' OR Q002 = 'G'\n",
        "            GROUP BY SG_UF_ESC\n",
        "            ORDER BY NUMERO_ALUNOS ASC\n",
        "    \"\"\")\\\n",
        "    .show()"
      ],
      "metadata": {
        "id": "PlyVNotaLOcY"
      },
      "execution_count": null,
      "outputs": []
    },
    {
      "cell_type": "code",
      "source": [
        "##Qual é o segundo estado brasileiro (considere a coluna SG_UF_ESC) que possui o maior número de pessoas na faixa “entre 26 e 30 anos”?\n",
        "spark\\\n",
        "    .sql(\"\"\"\n",
        "        SELECT SG_UF_ESC, COUNT(SG_UF_ESC) AS NUMERO_ALUNOS\n",
        "            FROM dados\n",
        "            WHERE TP_FAIXA_ETARIA = 11\n",
        "            GROUP BY SG_UF_ESC\n",
        "            ORDER BY NUMERO_ALUNOS DESC\n",
        "    \"\"\")\\\n",
        "    .show()"
      ],
      "metadata": {
        "id": "1hy3C2HnMEM6"
      },
      "execution_count": null,
      "outputs": []
    },
    {
      "cell_type": "code",
      "source": [
        "##Qual é o estado brasileiro (considere a coluna SG_UF_ESC) que possui o TERCEIRO maior número de alunos cuja residência possui PELO MENOS 2 banheiros?\n",
        "\n",
        "spark\\\n",
        "    .sql(\"\"\"\n",
        "        SELECT SG_UF_ESC, COUNT(SG_UF_ESC) AS NUMERO_ALUNOS\n",
        "            FROM dados\n",
        "            WHERE Q008 IN ('C', 'D', 'E')\n",
        "            GROUP BY SG_UF_ESC\n",
        "            ORDER BY NUMERO_ALUNOS DESC\n",
        "    \"\"\")\\\n",
        "    .show()"
      ],
      "metadata": {
        "id": "4YR0wWz0McA4"
      },
      "execution_count": null,
      "outputs": []
    },
    {
      "cell_type": "code",
      "source": [
        "##Quantos alunos do sexo feminino se autodeclararam pretos?\n",
        "\n",
        "spark\\\n",
        "    .sql(\"\"\"\n",
        "        SELECT count(*) \n",
        "            FROM dados\n",
        "            WHERE TP_COR_RACA = 2 AND TP_SEXO = 'F'\n",
        "    \"\"\")\\\n",
        "    .show()"
      ],
      "metadata": {
        "colab": {
          "base_uri": "https://localhost:8080/"
        },
        "id": "1uk4B6uGNFJH",
        "outputId": "12a38e25-45e4-412f-dc7b-b16ba1f40544"
      },
      "execution_count": null,
      "outputs": [
        {
          "output_type": "stream",
          "name": "stdout",
          "text": [
            "+--------+\n",
            "|count(1)|\n",
            "+--------+\n",
            "|  444346|\n",
            "+--------+\n",
            "\n"
          ]
        }
      ]
    },
    {
      "cell_type": "code",
      "source": [
        "##Quantos alunos estrangeiros fizeram o ENEM 2020?\n",
        "\n",
        "spark\\\n",
        "    .sql(\"\"\"\n",
        "        SELECT count(*) \n",
        "            FROM dados\n",
        "            WHERE TP_NACIONALIDADE = 3\n",
        "    \"\"\")\\\n",
        "    .show()"
      ],
      "metadata": {
        "colab": {
          "base_uri": "https://localhost:8080/"
        },
        "id": "4Lp-PKtcNdPz",
        "outputId": "de0c1d0f-c98b-4d26-8681-3ad67d53caf4"
      },
      "execution_count": null,
      "outputs": [
        {
          "output_type": "stream",
          "name": "stdout",
          "text": [
            "+--------+\n",
            "|count(1)|\n",
            "+--------+\n",
            "|    8036|\n",
            "+--------+\n",
            "\n"
          ]
        }
      ]
    },
    {
      "cell_type": "code",
      "source": [
        "##Qual é a diferença da nota média em matemática dos alunos que estudaram o ensino médio em escola pública e em escola privada?\n",
        "\n",
        "spark\\\n",
        "    .sql(\"\"\"\n",
        "        SELECT TP_ESCOLA, MEAN(NU_NOTA_MT) AS NOTA_MEDIA_MAT\n",
        "            FROM dados\n",
        "            GROUP BY TP_ESCOLA\n",
        "    \"\"\")\\\n",
        "    .show()"
      ],
      "metadata": {
        "id": "hJ84HMb-NFNU"
      },
      "execution_count": null,
      "outputs": []
    },
    {
      "cell_type": "code",
      "source": [
        "##Qual é o estado brasileiro (considere a coluna SG_UF_ESC) que possui o maior número de alunos do sexo feminino indígenas?\n",
        "\n",
        "spark\\\n",
        "    .sql(\"\"\"\n",
        "        SELECT SG_UF_ESC, COUNT(SG_UF_ESC) AS NUMERO_ALUNOS\n",
        "            FROM dados\n",
        "            WHERE TP_COR_RACA = 5 AND TP_SEXO = 'F'\n",
        "            GROUP BY SG_UF_ESC\n",
        "            ORDER BY NUMERO_ALUNOS DESC\n",
        "    \"\"\")\\\n",
        "    .show()"
      ],
      "metadata": {
        "id": "Gr2_WqcCOl5H"
      },
      "execution_count": null,
      "outputs": []
    },
    {
      "cell_type": "code",
      "source": [
        "##Qual é a diferença entre o número de alunos cujo pai possui pós-graduação completa e o número de alunos cuja mãe possui pós-graduação completa?\n",
        "\n",
        "##Pai com pos-graducao completa\n",
        "spark\\\n",
        "    .sql(\"\"\"\n",
        "        SELECT COUNT(*) AS NUMERO_ALUNOS\n",
        "            FROM dados\n",
        "            WHERE Q001 = 'G'\n",
        "    \"\"\")\\\n",
        "    .show()"
      ],
      "metadata": {
        "colab": {
          "base_uri": "https://localhost:8080/"
        },
        "id": "-8o4byyzO9iK",
        "outputId": "2426ec1a-db86-4d2b-84d8-6cd556cb12d1"
      },
      "execution_count": null,
      "outputs": [
        {
          "output_type": "stream",
          "name": "stdout",
          "text": [
            "+-------------+\n",
            "|NUMERO_ALUNOS|\n",
            "+-------------+\n",
            "|       239720|\n",
            "+-------------+\n",
            "\n"
          ]
        }
      ]
    },
    {
      "cell_type": "code",
      "source": [
        "spark\\\n",
        "    .sql(\"\"\"\n",
        "        SELECT COUNT(*) AS NUMERO_ALUNOS\n",
        "            FROM dados\n",
        "            WHERE Q002 = 'G'\n",
        "    \"\"\")\\\n",
        "    .show()"
      ],
      "metadata": {
        "id": "UBltSwBwPIeo"
      },
      "execution_count": null,
      "outputs": []
    },
    {
      "cell_type": "code",
      "source": [
        "##Quantos alunos cuja residência possui ATÉ 2 carros estudaram na região NORDESTE do Brasil?\n",
        "\n",
        "spark\\\n",
        "    .sql(\"\"\"\n",
        "        SELECT COUNT(*) AS NUMERO_ALUNOS\n",
        "            FROM dados\n",
        "            WHERE Q010 IN ('B', 'C') AND SG_UF_ESC IN ('MA','PI','CE','RN','PB','PE','AL','SE','BA')\n",
        "    \"\"\")\\\n",
        "    .show()"
      ],
      "metadata": {
        "id": "FJANvrJdP7PD"
      },
      "execution_count": null,
      "outputs": []
    },
    {
      "cell_type": "code",
      "source": [
        "##Quantos alunos que estudaram em escolas em zona rural possuem internet em casa?\n",
        "\n",
        "spark\\\n",
        "    .sql(\"\"\"\n",
        "        SELECT COUNT(*) AS NUMERO_ALUNOS\n",
        "            FROM dados\n",
        "            WHERE TP_LOCALIZACAO_ESC = 2 AND Q025 = 'B'\n",
        "    \"\"\")\\\n",
        "    .show()"
      ],
      "metadata": {
        "id": "aYf4QmcyQvhr"
      },
      "execution_count": null,
      "outputs": []
    },
    {
      "cell_type": "code",
      "source": [
        "##Qual é o nome do município que contém a SEGUNDA maior quantidade total de inscritos no ENEM 2020?\n",
        "\n",
        "spark\\\n",
        "    .sql(\"\"\"\n",
        "        SELECT NO_MUNICIPIO_ESC, COUNT(NO_MUNICIPIO_ESC) AS NUMERO_ALUNOS\n",
        "            FROM dados\n",
        "            GROUP BY NO_MUNICIPIO_ESC\n",
        "            ORDER BY NUMERO_ALUNOS DESC\n",
        "    \"\"\")\\\n",
        "    .show()"
      ],
      "metadata": {
        "colab": {
          "base_uri": "https://localhost:8080/"
        },
        "id": "FyqRfClnRQSz",
        "outputId": "d6adb095-cc23-4b74-ef23-3440080a451b"
      },
      "execution_count": null,
      "outputs": [
        {
          "output_type": "stream",
          "name": "stdout",
          "text": [
            "+----------------+-------------+\n",
            "|NO_MUNICIPIO_ESC|NUMERO_ALUNOS|\n",
            "+----------------+-------------+\n",
            "|       S�o Paulo|        38277|\n",
            "|       Fortaleza|        27783|\n",
            "|  Rio de Janeiro|        26431|\n",
            "|        Bras�lia|        19840|\n",
            "|          Manaus|        17120|\n",
            "|  Belo Horizonte|        11826|\n",
            "|          Recife|        10735|\n",
            "|        Salvador|        10500|\n",
            "|        Curitiba|         9868|\n",
            "|           Bel�m|         9137|\n",
            "|         Goi�nia|         8920|\n",
            "|        S�o Lu�s|         6573|\n",
            "|        Teresina|         5776|\n",
            "|    Porto Alegre|         5650|\n",
            "|          Macei�|         5070|\n",
            "|     Jo�o Pessoa|         5005|\n",
            "|    Campo Grande|         4767|\n",
            "|       Guarulhos|         4689|\n",
            "|           Natal|         4519|\n",
            "|        Campinas|         4323|\n",
            "+----------------+-------------+\n",
            "only showing top 20 rows\n",
            "\n"
          ]
        }
      ]
    },
    {
      "cell_type": "code",
      "source": [
        "dados.printSchema()"
      ],
      "metadata": {
        "colab": {
          "base_uri": "https://localhost:8080/"
        },
        "id": "C2YD4nVrGizc",
        "outputId": "65aba668-5ba0-4486-f942-d197e3329a75"
      },
      "execution_count": null,
      "outputs": [
        {
          "output_type": "stream",
          "name": "stdout",
          "text": [
            "root\n",
            " |-- NU_INSCRICAO: long (nullable = true)\n",
            " |-- NU_ANO: integer (nullable = true)\n",
            " |-- TP_FAIXA_ETARIA: integer (nullable = true)\n",
            " |-- TP_SEXO: string (nullable = true)\n",
            " |-- TP_ESTADO_CIVIL: integer (nullable = true)\n",
            " |-- TP_COR_RACA: integer (nullable = true)\n",
            " |-- TP_NACIONALIDADE: integer (nullable = true)\n",
            " |-- TP_ST_CONCLUSAO: integer (nullable = true)\n",
            " |-- TP_ANO_CONCLUIU: integer (nullable = true)\n",
            " |-- TP_ESCOLA: integer (nullable = true)\n",
            " |-- TP_ENSINO: integer (nullable = true)\n",
            " |-- IN_TREINEIRO: integer (nullable = true)\n",
            " |-- CO_MUNICIPIO_ESC: integer (nullable = true)\n",
            " |-- NO_MUNICIPIO_ESC: string (nullable = true)\n",
            " |-- CO_UF_ESC: integer (nullable = true)\n",
            " |-- SG_UF_ESC: string (nullable = true)\n",
            " |-- TP_DEPENDENCIA_ADM_ESC: integer (nullable = true)\n",
            " |-- TP_LOCALIZACAO_ESC: integer (nullable = true)\n",
            " |-- TP_SIT_FUNC_ESC: integer (nullable = true)\n",
            " |-- CO_MUNICIPIO_PROVA: integer (nullable = true)\n",
            " |-- NO_MUNICIPIO_PROVA: string (nullable = true)\n",
            " |-- CO_UF_PROVA: integer (nullable = true)\n",
            " |-- SG_UF_PROVA: string (nullable = true)\n",
            " |-- TP_PRESENCA_CN: integer (nullable = true)\n",
            " |-- TP_PRESENCA_CH: integer (nullable = true)\n",
            " |-- TP_PRESENCA_LC: integer (nullable = true)\n",
            " |-- TP_PRESENCA_MT: integer (nullable = true)\n",
            " |-- CO_PROVA_CN: integer (nullable = true)\n",
            " |-- CO_PROVA_CH: integer (nullable = true)\n",
            " |-- CO_PROVA_LC: integer (nullable = true)\n",
            " |-- CO_PROVA_MT: integer (nullable = true)\n",
            " |-- NU_NOTA_CN: double (nullable = true)\n",
            " |-- NU_NOTA_CH: double (nullable = true)\n",
            " |-- NU_NOTA_LC: double (nullable = true)\n",
            " |-- NU_NOTA_MT: double (nullable = true)\n",
            " |-- TX_RESPOSTAS_CN: string (nullable = true)\n",
            " |-- TX_RESPOSTAS_CH: string (nullable = true)\n",
            " |-- TX_RESPOSTAS_LC: string (nullable = true)\n",
            " |-- TX_RESPOSTAS_MT: string (nullable = true)\n",
            " |-- TP_LINGUA: integer (nullable = true)\n",
            " |-- TX_GABARITO_CN: string (nullable = true)\n",
            " |-- TX_GABARITO_CH: string (nullable = true)\n",
            " |-- TX_GABARITO_LC: string (nullable = true)\n",
            " |-- TX_GABARITO_MT: string (nullable = true)\n",
            " |-- TP_STATUS_REDACAO: integer (nullable = true)\n",
            " |-- NU_NOTA_COMP1: integer (nullable = true)\n",
            " |-- NU_NOTA_COMP2: integer (nullable = true)\n",
            " |-- NU_NOTA_COMP3: integer (nullable = true)\n",
            " |-- NU_NOTA_COMP4: integer (nullable = true)\n",
            " |-- NU_NOTA_COMP5: integer (nullable = true)\n",
            " |-- NU_NOTA_REDACAO: integer (nullable = true)\n",
            " |-- Q001: string (nullable = true)\n",
            " |-- Q002: string (nullable = true)\n",
            " |-- Q003: string (nullable = true)\n",
            " |-- Q004: string (nullable = true)\n",
            " |-- Q005: integer (nullable = true)\n",
            " |-- Q006: string (nullable = true)\n",
            " |-- Q007: string (nullable = true)\n",
            " |-- Q008: string (nullable = true)\n",
            " |-- Q009: string (nullable = true)\n",
            " |-- Q010: string (nullable = true)\n",
            " |-- Q011: string (nullable = true)\n",
            " |-- Q012: string (nullable = true)\n",
            " |-- Q013: string (nullable = true)\n",
            " |-- Q014: string (nullable = true)\n",
            " |-- Q015: string (nullable = true)\n",
            " |-- Q016: string (nullable = true)\n",
            " |-- Q017: string (nullable = true)\n",
            " |-- Q018: string (nullable = true)\n",
            " |-- Q019: string (nullable = true)\n",
            " |-- Q020: string (nullable = true)\n",
            " |-- Q021: string (nullable = true)\n",
            " |-- Q022: string (nullable = true)\n",
            " |-- Q023: string (nullable = true)\n",
            " |-- Q024: string (nullable = true)\n",
            " |-- Q025: string (nullable = true)\n",
            "\n"
          ]
        }
      ]
    }
  ]
}