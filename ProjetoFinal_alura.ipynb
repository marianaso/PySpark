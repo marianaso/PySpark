{
  "cells": [
    {
      "cell_type": "markdown",
      "metadata": {
        "id": "view-in-github",
        "colab_type": "text"
      },
      "source": [
        "<a href=\"https://colab.research.google.com/github/marianaso/PySpark/blob/main/ProjetoFinal_alura.ipynb\" target=\"_parent\"><img src=\"https://colab.research.google.com/assets/colab-badge.svg\" alt=\"Open In Colab\"/></a>"
      ]
    },
    {
      "cell_type": "markdown",
      "metadata": {
        "id": "WEx2aGrYUKdC"
      },
      "source": [
        "### **Sessão e leitura dos dados**"
      ]
    },
    {
      "cell_type": "code",
      "execution_count": null,
      "metadata": {
        "colab": {
          "base_uri": "https://localhost:8080/"
        },
        "id": "KXX9hzo2podk",
        "outputId": "d5c70d3e-dd90-4d8b-e3de-3da841fbd333"
      },
      "outputs": [
        {
          "output_type": "stream",
          "name": "stdout",
          "text": [
            "Looking in indexes: https://pypi.org/simple, https://us-python.pkg.dev/colab-wheels/public/simple/\n",
            "Collecting pyspark\n",
            "  Downloading pyspark-3.3.2.tar.gz (281.4 MB)\n",
            "\u001b[2K     \u001b[90m━━━━━━━━━━━━━━━━━━━━━━━━━━━━━━━━━━━━━━━\u001b[0m \u001b[32m281.4/281.4 MB\u001b[0m \u001b[31m4.1 MB/s\u001b[0m eta \u001b[36m0:00:00\u001b[0m\n",
            "\u001b[?25h  Preparing metadata (setup.py) ... \u001b[?25l\u001b[?25hdone\n",
            "Collecting py4j==0.10.9.5\n",
            "  Downloading py4j-0.10.9.5-py2.py3-none-any.whl (199 kB)\n",
            "\u001b[2K     \u001b[90m━━━━━━━━━━━━━━━━━━━━━━━━━━━━━━━━━━━━━━\u001b[0m \u001b[32m199.7/199.7 KB\u001b[0m \u001b[31m23.5 MB/s\u001b[0m eta \u001b[36m0:00:00\u001b[0m\n",
            "\u001b[?25hBuilding wheels for collected packages: pyspark\n",
            "  Building wheel for pyspark (setup.py) ... \u001b[?25l\u001b[?25hdone\n",
            "  Created wheel for pyspark: filename=pyspark-3.3.2-py2.py3-none-any.whl size=281824028 sha256=2a5d01fbc81f0dedc7029a28d3f7e941a01165fa24c9683580a57582532b7831\n",
            "  Stored in directory: /root/.cache/pip/wheels/6c/e3/9b/0525ce8a69478916513509d43693511463c6468db0de237c86\n",
            "Successfully built pyspark\n",
            "Installing collected packages: py4j, pyspark\n",
            "  Attempting uninstall: py4j\n",
            "    Found existing installation: py4j 0.10.9.7\n",
            "    Uninstalling py4j-0.10.9.7:\n",
            "      Successfully uninstalled py4j-0.10.9.7\n",
            "Successfully installed py4j-0.10.9.5 pyspark-3.3.2\n"
          ]
        }
      ],
      "source": [
        "# Instalando o PySpark\n",
        "!pip install pyspark"
      ]
    },
    {
      "cell_type": "code",
      "execution_count": null,
      "metadata": {
        "id": "6h6FynwEVZ0h"
      },
      "outputs": [],
      "source": [
        "# Iniciando uma sessão\n",
        "from pyspark.sql import SparkSession\n",
        "\n",
        "spark = SparkSession.builder \\\n",
        "    .master('local[*]') \\\n",
        "    .appName(\"analise_nlp\") \\\n",
        "    .getOrCreate()"
      ]
    },
    {
      "cell_type": "code",
      "source": [
        "from google.colab import drive\n",
        "drive.mount('/content/drive')"
      ],
      "metadata": {
        "colab": {
          "base_uri": "https://localhost:8080/"
        },
        "id": "64cNsiu3suz2",
        "outputId": "bc90b67d-5040-4ee2-8e81-afb0ec1e7206"
      },
      "execution_count": null,
      "outputs": [
        {
          "output_type": "stream",
          "name": "stdout",
          "text": [
            "Mounted at /content/drive\n"
          ]
        }
      ]
    },
    {
      "cell_type": "markdown",
      "source": [],
      "metadata": {
        "id": "4CmqgZe5s0jv"
      }
    },
    {
      "cell_type": "code",
      "execution_count": null,
      "metadata": {
        "id": "8n3r1kieYGx_"
      },
      "outputs": [],
      "source": [
        "# baixando o kaggle: https://www.kaggle.com/datasets/luisfredgs/imdb-ptbr\n",
        "# Leitura dos dados:\n",
        "# 1. Pela conexão com o google drive #2. Pelo carregamento no colab.(<---)\n",
        "dados = spark.read.csv(\"/content/drive/MyDrive/ALURA/imdb-reviews-pt-br.csv\",\n",
        "                       escape = '\\\"',\n",
        "                       inferSchema= True,\n",
        "                       header = True)"
      ]
    },
    {
      "cell_type": "code",
      "source": [
        "dados.printSchema()"
      ],
      "metadata": {
        "id": "zw3-WEnYunHB"
      },
      "execution_count": null,
      "outputs": []
    },
    {
      "cell_type": "markdown",
      "metadata": {
        "id": "wIeTUmHQUU1g"
      },
      "source": [
        "### **Explorando os dados**\n",
        "\n",
        "Agora que já lemos os dados, vamos explorá-lo entendendo:\n",
        "\n",
        "* O **tamanho** dos dados\n",
        "* Os **campos** e o tipo\n",
        "* O **conteúdo** em cada campo\n",
        "* A **proporção** das categorias\n"
      ]
    },
    {
      "cell_type": "code",
      "execution_count": null,
      "metadata": {
        "colab": {
          "base_uri": "https://localhost:8080/"
        },
        "id": "M1CDaeb5Vt5e",
        "outputId": "48bf98e2-05f4-4aff-e437-38fc1b861dc7"
      },
      "outputs": [
        {
          "output_type": "stream",
          "name": "stdout",
          "text": [
            "N° de Linhas:49459 N° de colunas:4\n"
          ]
        }
      ],
      "source": [
        "# O tamanho dos dados\n",
        "print(f'N° de Linhas:{dados.count()}', f'N° de colunas:{len(dados.columns)}')"
      ]
    },
    {
      "cell_type": "code",
      "execution_count": null,
      "metadata": {
        "colab": {
          "base_uri": "https://localhost:8080/"
        },
        "id": "i_9ziPklUx_U",
        "outputId": "a99acb84-8a18-4b6b-dcd7-ef233c489e39"
      },
      "outputs": [
        {
          "output_type": "stream",
          "name": "stdout",
          "text": [
            "root\n",
            " |-- id: integer (nullable = true)\n",
            " |-- text_en: string (nullable = true)\n",
            " |-- text_pt: string (nullable = true)\n",
            " |-- sentiment: string (nullable = true)\n",
            "\n"
          ]
        }
      ],
      "source": [
        "# campos e tipos\n",
        "dados.printSchema()"
      ]
    },
    {
      "cell_type": "code",
      "execution_count": null,
      "metadata": {
        "id": "CKBeD2-VWhva"
      },
      "outputs": [],
      "source": [
        "# Conteudo\n",
        "dados.limit(99).show()"
      ]
    },
    {
      "cell_type": "code",
      "execution_count": null,
      "metadata": {
        "colab": {
          "base_uri": "https://localhost:8080/"
        },
        "id": "Qma3dugLrtlD",
        "outputId": "f7149766-5b54-4931-acf9-3da1585ec219"
      },
      "outputs": [
        {
          "output_type": "stream",
          "name": "stdout",
          "text": [
            "Negativo\n",
            "+---------------------------------------------------------------------------------------------------------------------------------------------------------------------------------------------------------------------------------------------------------------------------------------------------------------------------------------------------------------------------------------------------------------------------------------------------------------------------------------------------------------------------------------------------------------------------------------------------------------------------------------------------------------------------------------------------------------------------------------------------------------------------------------------------------------------------------------------------------------------------------------------------+\n",
            "|text_pt                                                                                                                                                                                                                                                                                                                                                                                                                                                                                                                                                                                                                                                                                                                                                                                                                                                                                            |\n",
            "+---------------------------------------------------------------------------------------------------------------------------------------------------------------------------------------------------------------------------------------------------------------------------------------------------------------------------------------------------------------------------------------------------------------------------------------------------------------------------------------------------------------------------------------------------------------------------------------------------------------------------------------------------------------------------------------------------------------------------------------------------------------------------------------------------------------------------------------------------------------------------------------------------+\n",
            "|Este é sem dúvida o pior filme que eu já vi. E acredite em mim, eu vi muitos filmes. A reviravolta inacreditável que o filme faz - passando de um extremamente mau filme \"Formas de vida alienígenas habitam a terra\", com um filme que tenta espalhar um arquicristiano \"O dia do julgamento está próximo, buscar Jesus ou queimar por toda a eternidade em as dívidas ardentes do inferno \"mensagem - deixou-me atordoado depois de ter sido atormentado por 85 minutos. Até mesmo os cristãos religiosos devem se envergonhar ou ficar furiosos ao ver suas crenças postadas dessa maneira. Eu não sabia o que fazer comigo quando assisti a atuação horrível que poderia ter sido realizada por crianças de 7 anos de idade. Simplesmente repugnante. Eu não sou cristão nem muito religioso. Mas se eu estivesse, não teria mais medo do Inferno. Rich Christiano mostrou ser algo muito pior.|\n",
            "+---------------------------------------------------------------------------------------------------------------------------------------------------------------------------------------------------------------------------------------------------------------------------------------------------------------------------------------------------------------------------------------------------------------------------------------------------------------------------------------------------------------------------------------------------------------------------------------------------------------------------------------------------------------------------------------------------------------------------------------------------------------------------------------------------------------------------------------------------------------------------------------------------+\n",
            "\n",
            "Positivo\n",
            "+-----------------------------------------------------------------------------------------------------------------------------------------------------------------------------------------------------------------------------------------------------------------------------------------------------------------------------------------------------------------------------------------------------------------------------------------------------------------------------------------------------------------------------------------------------------------------------------------------------------------------------------------------------------------------------------------------------------------------------------------------------+\n",
            "|text_pt                                                                                                                                                                                                                                                                                                                                                                                                                                                                                                                                                                                                                                                                                                                                              |\n",
            "+-----------------------------------------------------------------------------------------------------------------------------------------------------------------------------------------------------------------------------------------------------------------------------------------------------------------------------------------------------------------------------------------------------------------------------------------------------------------------------------------------------------------------------------------------------------------------------------------------------------------------------------------------------------------------------------------------------------------------------------------------------+\n",
            "|O filme é excelente. Uma das coisas mais notáveis ​​sobre isso é que o desempenho Flynns é excelente. Isso vale a pena enfatizar, já que ele costumava ser ridicularizado como ator por Bette Davis et al. Lembro-me da cena em que Flynn fica bêbado de Arthur Kennedy para levá-lo ao seu destino na Batalha de Little Big Horn. O olhar frio e calculista no rosto de Flynns é extraordinário - muito melhor do que o muito elogiado Spencer Tracy ou muitas outras estrelas poderiam ter feito. A outra coisa a notar é o excelente desempenho de George P. Huntley Jr como o \"Queens\". Próprio \"Butler. É desconcertante por que ele parou de fazer filmes pouco depois - alguém teria pensado que ele teria sido contratado por anos como ator.|\n",
            "+-----------------------------------------------------------------------------------------------------------------------------------------------------------------------------------------------------------------------------------------------------------------------------------------------------------------------------------------------------------------------------------------------------------------------------------------------------------------------------------------------------------------------------------------------------------------------------------------------------------------------------------------------------------------------------------------------------------------------------------------------------+\n",
            "\n"
          ]
        }
      ],
      "source": [
        "# Apresentando alguns comentários ditos como negativo ou positivo.\n",
        "print(\"Negativo\")\n",
        "dados.filter(dados.id == 190).select(\"text_pt\").show(truncate = False)\n",
        "print(\"Positivo\")\n",
        "dados.filter(dados.id == 12427).select(\"text_pt\").show(truncate = False)"
      ]
    },
    {
      "cell_type": "code",
      "execution_count": null,
      "metadata": {
        "colab": {
          "base_uri": "https://localhost:8080/"
        },
        "id": "vSn6IAm1iZFN",
        "outputId": "643c415c-0c02-4029-cb83-a7128cfdd0ef"
      },
      "outputs": [
        {
          "output_type": "stream",
          "name": "stdout",
          "text": [
            "+---------+-----+\n",
            "|sentiment|count|\n",
            "+---------+-----+\n",
            "|      pos|24694|\n",
            "|      neg|24765|\n",
            "+---------+-----+\n",
            "\n"
          ]
        }
      ],
      "source": [
        "# Contabilizando os tipos de comentários\n",
        "dados.groupBy('sentiment').count().show()"
      ]
    },
    {
      "cell_type": "markdown",
      "metadata": {
        "id": "Idqhn1RfZhcZ"
      },
      "source": [
        "### **Limpando e processando os dados**\n",
        " \n",
        "Para que o computador compreenda nossa linguagem é importante realizar algumas transformações no intuito de faciliar essa compreensão. Para isso, primeiramente podemos realizar a **limpeza dos dados**, que consiste na **remoção de caracteres que não contribui** na distinção dos sentimentos dos comentários dos nossos clientes, podemos citar por exemplos, remover caracteres especiais e espaços no início e fim dos comentários.\n",
        "\n",
        "\n",
        "Logo após a limpeza de caracteres não relevantes, precisamos realizar o procedimento de **Tokenização**, que consiste no processo de **dividir uma frase** em palavras ou tokens (parte do texto) individuais.\n",
        "\n",
        "E para finalizar o processamento dos nossos dados, iremos realizar a retirada de **stopwords**, ou seja, aquelas palavras que não auxiliam na classificação ou identificação do texto, em sua maioria são **preposições, artigos, pronomes .**..\n",
        " \n",
        " "
      ]
    },
    {
      "cell_type": "code",
      "execution_count": null,
      "metadata": {
        "colab": {
          "base_uri": "https://localhost:8080/"
        },
        "id": "8uQK2-zoGb9Z",
        "outputId": "972cf628-2049-49b5-c976-479ad6411e1f"
      },
      "outputs": [
        {
          "output_type": "stream",
          "name": "stdout",
          "text": [
            "+---+--------------------+--------------------+---------+\n",
            "| id|             text_en|             text_pt|sentiment|\n",
            "+---+--------------------+--------------------+---------+\n",
            "|  1|Once again Mr. Co...|Mais uma vez, o S...|      neg|\n",
            "|  2|This is an exampl...|Este é um exemplo...|      neg|\n",
            "|  3|First of all I ha...|Primeiro de tudo ...|      neg|\n",
            "|  4|Not even the Beat...|Nem mesmo os Beat...|      neg|\n",
            "|  5|Brass pictures mo...|Filmes de fotos d...|      neg|\n",
            "|  6|A funny thing hap...|Uma coisa engraça...|      neg|\n",
            "|  7|This German horro...|Este filme de ter...|      neg|\n",
            "|  8|Being a long-time...|Sendo um fã de lo...|      neg|\n",
            "|  9|\"Tokyo Eyes\" tell...|\"Tokyo Eyes\" fala...|      neg|\n",
            "| 10|Wealthy horse ran...|Fazendeiros ricos...|      neg|\n",
            "+---+--------------------+--------------------+---------+\n",
            "\n"
          ]
        }
      ],
      "source": [
        "#Lembrando como estão nossos dados\n",
        "dados.limit(10).show()"
      ]
    },
    {
      "cell_type": "markdown",
      "metadata": {
        "id": "V8ZU73LZ-Pdk"
      },
      "source": [
        "### **WordCloud**\n",
        "\n",
        "A nuvem de palavras é um recurso visual muito utilizado para entender as palavras mais frequentes de um texto. Aqui usaremos a própria biblioteca do Python `WordCloud`. \n",
        "\n",
        "A ideia é coletar as palavras usando *list comprehension* e aplicando a função `collect()` em uma [amostra](https://spark.apache.org/docs/latest/api/python/reference/pyspark.sql/api/pyspark.sql.DataFrame.sample.html), já que esta função exige muitos recursos de processamento do spark.\n"
      ]
    },
    {
      "cell_type": "code",
      "source": [
        "from wordcloud import WordCloud\n",
        "import matplotlib.pyplot as plt\n",
        "\n",
        "amostra = dados.select('text_pt').sample(fraction = 0.1, seed = 101)"
      ],
      "metadata": {
        "id": "KtByh6RHga_v"
      },
      "execution_count": null,
      "outputs": []
    },
    {
      "cell_type": "code",
      "execution_count": null,
      "metadata": {
        "id": "WMTxKK49ddka"
      },
      "outputs": [],
      "source": [
        "from wordcloud import WordCloud\n",
        "import matplotlib.pyplot as plt\n",
        "\n",
        "amostra = dados.select('text_pt').sample(fraction = 0.1, seed = 101)\n",
        "tudo = [texto['text_pt'] for texto in amostra.collect()]"
      ]
    },
    {
      "cell_type": "code",
      "execution_count": null,
      "metadata": {
        "id": "5SZh-mMuKCx8"
      },
      "outputs": [],
      "source": [
        "wordcloud = WordCloud(background_color = 'white',\n",
        "                      width = 1000,\n",
        "                      height = 600,\n",
        "                      collocations = False, \n",
        "                      prefer_horizontal = 1).generate(str(tudo))"
      ]
    },
    {
      "cell_type": "code",
      "source": [
        "wordcloud = WordCloud().generate(str(tudo))"
      ],
      "metadata": {
        "id": "8FlmQ2V-g3NF"
      },
      "execution_count": null,
      "outputs": []
    },
    {
      "cell_type": "code",
      "execution_count": null,
      "metadata": {
        "colab": {
          "base_uri": "https://localhost:8080/",
          "height": 653
        },
        "id": "zyQd9pfEnU1e",
        "outputId": "d8d766d1-969d-4a1a-a397-c7df27926386"
      },
      "outputs": [
        {
          "output_type": "display_data",
          "data": {
            "text/plain": [
              "<Figure size 2000x800 with 1 Axes>"
            ],
            "image/png": "[encoded data removed]"
          },
          "metadata": {}
        }
      ],
      "source": [
        "plt.figure(figsize=(20,8))\n",
        "plt.imshow(wordcloud)\n",
        "plt.axis(\"off\")\n",
        "plt.show()"
      ]
    },
    {
      "cell_type": "markdown",
      "metadata": {
        "id": "yCBRmpcWC_0t"
      },
      "source": [
        "#### **Limpeza**: caracteres especiais"
      ]
    },
    {
      "cell_type": "code",
      "execution_count": null,
      "metadata": {
        "colab": {
          "base_uri": "https://localhost:8080/",
          "height": 35
        },
        "id": "DKeyi2pGqmqe",
        "outputId": "d25104a2-83ec-4ecc-ff95-84cf6772eca3"
      },
      "outputs": [
        {
          "output_type": "execute_result",
          "data": {
            "text/plain": [
              "'!\"#$%&\\'()*+,-./:;<=>?@[\\\\]^_`{|}~'"
            ],
            "application/vnd.google.colaboratory.intrinsic+json": {
              "type": "string"
            }
          },
          "metadata": {},
          "execution_count": 10
        }
      ],
      "source": [
        "# queremos remover esses tipos de caracteres\n",
        "import string\n",
        "string.punctuation"
      ]
    },
    {
      "cell_type": "code",
      "execution_count": null,
      "metadata": {
        "id": "FQOaR85wnGTn"
      },
      "outputs": [],
      "source": [
        "# exemplo de dataframe para a limpeza de caracteres especiais\n",
        "amostra = spark.createDataFrame([\n",
        "       (\"Oi, JP! Blz?\",),\n",
        "       (\"$$$\\\\ |~ Parabéns ~| \\\\$$$\",),\n",
        "       (\"(#amovc #paz&amor ^.^)\",),\n",
        "       (\"\\\"bora *_* \\\"\",),\n",
        "       (\"=>->'...``` vc foi selecionad@ ´´´...'<=<-\",),\n",
        "       (\"{comprar: arroz; feijão e pepino}  //\",),\n",
        "       (\"!\\\"#$%&'()*+,-./:;<=>?@[\\]^_`{|}~\",),\n",
        "       (\"ana@gmail.com\",)\n",
        "], [\"textos\"])\n"
      ]
    },
    {
      "cell_type": "code",
      "execution_count": null,
      "metadata": {
        "id": "SLbExO1Tmh_Z"
      },
      "outputs": [],
      "source": [
        "#amostra.show(truncate=False)\n",
        "import pyspark.sql.functions as f\n",
        "\n",
        "amostra = amostra.withColumn(\"texto_regex\", f.regexp_replace(\"textos\", \"[\\$#,\\\"!%&'()*+-./:;<=>?@^_`´{|}~\\\\\\\\]\", \"\"))\n",
        "\n"
      ]
    },
    {
      "cell_type": "code",
      "execution_count": null,
      "metadata": {
        "colab": {
          "base_uri": "https://localhost:8080/"
        },
        "id": "G53rKCle6tuS",
        "outputId": "87d00d65-2139-4785-c7ae-f85daf843e9c"
      },
      "outputs": [
        {
          "output_type": "stream",
          "name": "stdout",
          "text": [
            "+------------------------------------------+-------------------------------+\n",
            "|textos                                    |texto_regex                    |\n",
            "+------------------------------------------+-------------------------------+\n",
            "|Oi, JP! Blz?                              |Oi JP Blz                      |\n",
            "|$$$\\ |~ Parabéns ~| \\$$$                  |  Parabéns                     |\n",
            "|(#amovc #paz&amor ^.^)                    |amovc pazamor                  |\n",
            "|\"bora *_* \"                               |bora                           |\n",
            "|=>->'...``` vc foi selecionad@ ´´´...'<=<-| vc foi selecionad             |\n",
            "|{comprar: arroz; feijão e pepino}  //     |comprar arroz feijão e pepino  |\n",
            "|!\"#$%&'()*+,-./:;<=>?@[\\]^_`{|}~          |[]                             |\n",
            "|ana@gmail.com                             |anagmailcom                    |\n",
            "+------------------------------------------+-------------------------------+\n",
            "\n"
          ]
        }
      ],
      "source": [
        "amostra.show(truncate = False)"
      ]
    },
    {
      "cell_type": "code",
      "execution_count": null,
      "metadata": {
        "colab": {
          "base_uri": "https://localhost:8080/"
        },
        "id": "OeHu6zyDXwz7",
        "outputId": "5b4be673-ed19-4502-ba08-a5bd6430b43b"
      },
      "outputs": [
        {
          "output_type": "stream",
          "name": "stdout",
          "text": [
            "+------------------------------------------+-------------------------------+-----------------------------+\n",
            "|textos                                    |texto_regex                    |texto_limpo                  |\n",
            "+------------------------------------------+-------------------------------+-----------------------------+\n",
            "|Oi, JP! Blz?                              |Oi JP Blz                      |Oi JP Blz                    |\n",
            "|$$$\\ |~ Parabéns ~| \\$$$                  |  Parabéns                     |Parabéns                     |\n",
            "|(#amovc #paz&amor ^.^)                    |amovc pazamor                  |amovc pazamor                |\n",
            "|\"bora *_* \"                               |bora                           |bora                         |\n",
            "|=>->'...``` vc foi selecionad@ ´´´...'<=<-| vc foi selecionad             |vc foi selecionad            |\n",
            "|{comprar: arroz; feijão e pepino}  //     |comprar arroz feijão e pepino  |comprar arroz feijão e pepino|\n",
            "|!\"#$%&'()*+,-./:;<=>?@[\\]^_`{|}~          |[]                             |[]                           |\n",
            "|ana@gmail.com                             |anagmailcom                    |anagmailcom                  |\n",
            "+------------------------------------------+-------------------------------+-----------------------------+\n",
            "\n"
          ]
        }
      ],
      "source": [
        "# Tirando os espaços em brancos no exemplo.\n",
        "amostra = amostra.withColumn(\"texto_limpo\", f.trim(amostra.texto_regex))\n",
        "amostra.show(truncate = False)"
      ]
    },
    {
      "cell_type": "code",
      "execution_count": null,
      "metadata": {
        "id": "sR4H0al86Ma_"
      },
      "outputs": [],
      "source": [
        "#1. retirando os caracteres especiais dos dados\n",
        "dados = dados.withColumn(\"texto_regex\", f.regexp_replace(\"text_en\", \"[\\$#,\\\"!%&'()*+-./:;<=>?@^_`´{|}~\\\\\\\\]\", \"\"))\n"
      ]
    },
    {
      "cell_type": "code",
      "execution_count": null,
      "metadata": {
        "id": "YORSTojI58yH"
      },
      "outputs": [],
      "source": [
        "dados.limit(2).show(truncate=False)"
      ]
    },
    {
      "cell_type": "code",
      "execution_count": null,
      "metadata": {
        "id": "Hd9qvHHJ6lZM"
      },
      "outputs": [],
      "source": [
        "#2. tirar espaços do começo e do final de cada frase:\n",
        "# poderiamos usar regex, mas vamos usar o trim\n",
        "dados = dados.withColumn(\"texto_limpo\", f.trim(dados.texto_regex) )"
      ]
    },
    {
      "cell_type": "code",
      "execution_count": null,
      "metadata": {
        "id": "D21RUwvqqlrY"
      },
      "outputs": [],
      "source": [
        "dados.limit(2).show()"
      ]
    },
    {
      "cell_type": "markdown",
      "metadata": {
        "id": "y8p0o_qSDTel"
      },
      "source": [
        "#### **Tokenização**: divisão em tokens"
      ]
    },
    {
      "cell_type": "code",
      "execution_count": null,
      "metadata": {
        "id": "V7DIiifhBmog"
      },
      "outputs": [],
      "source": [
        "#3. tokenizando os dados\n",
        "# separa as frases em vetores com os tokens\n",
        "from pyspark.ml.feature import Tokenizer\n",
        "\n",
        "tokenizer = Tokenizer(inputCol = \"texto_limpo\", outputCol = \"tokens\")\n",
        "tokenizado = tokenizer.transform(dados)"
      ]
    },
    {
      "cell_type": "code",
      "execution_count": null,
      "metadata": {
        "colab": {
          "base_uri": "https://localhost:8080/"
        },
        "id": "BYELx1koLszj",
        "outputId": "5cc27509-e5db-4f22-ae22-928393bc6b51"
      },
      "outputs": [
        {
          "output_type": "stream",
          "name": "stdout",
          "text": [
            "+--------------------+--------------------+\n",
            "|         texto_limpo|              tokens|\n",
            "+--------------------+--------------------+\n",
            "|Once again Mr Cos...|[once, again, mr,...|\n",
            "|This is an exampl...|[this, is, an, ex...|\n",
            "|First of all I ha...|[first, of, all, ...|\n",
            "|Not even the Beat...|[not, even, the, ...|\n",
            "|Brass pictures mo...|[brass, pictures,...|\n",
            "|A funny thing hap...|[a, funny, thing,...|\n",
            "|This German horro...|[this, german, ho...|\n",
            "|Being a longtime ...|[being, a, longti...|\n",
            "|Tokyo Eyes tells ...|[tokyo, eyes, tel...|\n",
            "|Wealthy horse ran...|[wealthy, horse, ...|\n",
            "|Cage plays a drun...|[cage, plays, a, ...|\n",
            "|First of all I wo...|[first, of, all, ...|\n",
            "|So tell me  what ...|[so, tell, me, , ...|\n",
            "|A big disappointm...|[a, big, disappoi...|\n",
            "|This film is abso...|[this, film, is, ...|\n",
            "|Heres a decidedly...|[heres, a, decide...|\n",
            "|At the bottom end...|[at, the, bottom,...|\n",
            "|Earth has been de...|[earth, has, been...|\n",
            "|Many people are s...|[many, people, ar...|\n",
            "|New York family i...|[new, york, famil...|\n",
            "+--------------------+--------------------+\n",
            "only showing top 20 rows\n",
            "\n"
          ]
        }
      ],
      "source": [
        "tokenizado.select(\"texto_limpo\", \"tokens\").show()"
      ]
    },
    {
      "cell_type": "code",
      "execution_count": null,
      "metadata": {
        "colab": {
          "base_uri": "https://localhost:8080/"
        },
        "id": "jlyFjOPsB_mH",
        "outputId": "b716b2ef-953d-4fa0-9d24-d48670f027c9"
      },
      "outputs": [
        {
          "output_type": "stream",
          "name": "stdout",
          "text": [
            "+--------------------+--------------------+-----------+\n",
            "|         texto_limpo|              tokens|Freq_tokens|\n",
            "+--------------------+--------------------+-----------+\n",
            "|Once again Mr Cos...|[once, again, mr,...|        168|\n",
            "|This is an exampl...|[this, is, an, ex...|        232|\n",
            "|First of all I ha...|[first, of, all, ...|        215|\n",
            "|Not even the Beat...|[not, even, the, ...|        308|\n",
            "|Brass pictures mo...|[brass, pictures,...|        238|\n",
            "|A funny thing hap...|[a, funny, thing,...|        115|\n",
            "|This German horro...|[this, german, ho...|        156|\n",
            "|Being a longtime ...|[being, a, longti...|        136|\n",
            "|Tokyo Eyes tells ...|[tokyo, eyes, tel...|        129|\n",
            "|Wealthy horse ran...|[wealthy, horse, ...|        160|\n",
            "|Cage plays a drun...|[cage, plays, a, ...|        109|\n",
            "|First of all I wo...|[first, of, all, ...|        333|\n",
            "|So tell me  what ...|[so, tell, me, , ...|        243|\n",
            "|A big disappointm...|[a, big, disappoi...|        110|\n",
            "|This film is abso...|[this, film, is, ...|        185|\n",
            "|Heres a decidedly...|[heres, a, decide...|        205|\n",
            "|At the bottom end...|[at, the, bottom,...|        148|\n",
            "|Earth has been de...|[earth, has, been...|        196|\n",
            "|Many people are s...|[many, people, ar...|        350|\n",
            "|New York family i...|[new, york, famil...|         77|\n",
            "+--------------------+--------------------+-----------+\n",
            "only showing top 20 rows\n",
            "\n"
          ]
        }
      ],
      "source": [
        "from pyspark.sql.types import IntegerType\n",
        "# Entendendo em quantos tokens os comentários foram divididos.\n",
        "countTokens = f.udf(lambda tokens: len(tokens), IntegerType())\n",
        "tokenizado.select(\"texto_limpo\", \"tokens\")\\\n",
        "          .withColumn(\"Freq_tokens\", countTokens(f.col(\"tokens\"))).show()"
      ]
    },
    {
      "cell_type": "markdown",
      "metadata": {
        "id": "5CkNp3pjDZwF"
      },
      "source": [
        "#### **StopWords**: remoção de ruídos\n",
        "\n",
        "Podemos usar o [`StopWordsRemover()`](https://spark.apache.org/docs/latest/api/python/reference/api/pyspark.ml.feature.StopWordsRemover.html) nativo do spark, ou o [`stopwords()`](https://openbase.com/js/nltk-stopwords/documentation) da biblioteca nltk do Python. Dentre muitas linguagens, ambas bibliotecas dão suporte para o português.\n",
        "\n",
        "Vamos começar com um **exemplo pequeno** e depois aplicar em nossos dados."
      ]
    },
    {
      "cell_type": "code",
      "execution_count": null,
      "metadata": {
        "id": "Sv1KSB22JWtT"
      },
      "outputs": [],
      "source": [
        "# Exemplo pequeno\n",
        "data = [(1, 'Spark é ótimo e NLP com Spark é fácil'), \n",
        "        (0, 'Spark MLlib não ajuda muito'), \n",
        "        (1, 'O MLlib do Spark ajuda e é fácil')]\n",
        "        \n",
        "colNames = ['label', 'texto_limpo']\n",
        "df = spark.createDataFrame(data, colNames)"
      ]
    },
    {
      "cell_type": "code",
      "execution_count": null,
      "metadata": {
        "colab": {
          "base_uri": "https://localhost:8080/"
        },
        "id": "9kBAdaMdK9b-",
        "outputId": "2c8a5c4f-9c68-4711-851c-425760db1c51"
      },
      "outputs": [
        {
          "output_type": "stream",
          "name": "stderr",
          "text": [
            "[nltk_data] Downloading package stopwords to /root/nltk_data...\n",
            "[nltk_data]   Unzipping corpora/stopwords.zip.\n"
          ]
        }
      ],
      "source": [
        "#Exemplo explorando bibliotecas. (nltk)\n",
        "import nltk\n",
        "nltk.download(\"stopwords\")\n",
        "\n",
        "from nltk.corpus import stopwords\n",
        "stop_A = stopwords.words(\"portuguese\")"
      ]
    },
    {
      "cell_type": "code",
      "execution_count": null,
      "metadata": {
        "id": "kgVwQ2MsEVBl"
      },
      "outputs": [],
      "source": [
        "#Exemplo explorando bibliotecas. (pyspark)\n",
        "from pyspark.ml.feature import StopWordsRemover\n",
        "\n",
        "stop_B = StopWordsRemover.loadDefaultStopWords(\"portuguese\")"
      ]
    },
    {
      "cell_type": "code",
      "execution_count": null,
      "metadata": {
        "id": "dCCde4GAuPx4"
      },
      "outputs": [],
      "source": [
        "# exemplo comparando os diferentes stopwords #A\n",
        "from pyspark.ml.feature import Tokenizer\n",
        "\n",
        "tokenizer = Tokenizer(inputCol = \"texto_limpo\", outputCol = \"tokens\")\n",
        "tokenized = tokenizer.transform(df)\n"
      ]
    },
    {
      "cell_type": "code",
      "execution_count": null,
      "metadata": {
        "id": "kBbMdEjnyJH3"
      },
      "outputs": [],
      "source": [
        "remover = StopWordsRemover(inputCol = \"tokens\", outputCol = \"texto_final\", stopWords= stop_A)\n",
        "df = remover.transform(tokenized)"
      ]
    },
    {
      "cell_type": "code",
      "execution_count": null,
      "metadata": {
        "colab": {
          "base_uri": "https://localhost:8080/"
        },
        "id": "yX3Ttzo2ySav",
        "outputId": "4afd6752-4990-49b1-8129-4f499c4fa3d0"
      },
      "outputs": [
        {
          "output_type": "stream",
          "name": "stdout",
          "text": [
            "+-----+-------------------------------------+-----------------------------------------------+---------------------------------+\n",
            "|label|texto_limpo                          |tokens                                         |texto_final                      |\n",
            "+-----+-------------------------------------+-----------------------------------------------+---------------------------------+\n",
            "|1    |Spark é ótimo e NLP com Spark é fácil|[spark, é, ótimo, e, nlp, com, spark, é, fácil]|[spark, ótimo, nlp, spark, fácil]|\n",
            "|0    |Spark MLlib não ajuda muito          |[spark, mllib, não, ajuda, muito]              |[spark, mllib, ajuda]            |\n",
            "|1    |O MLlib do Spark ajuda e é fácil     |[o, mllib, do, spark, ajuda, e, é, fácil]      |[mllib, spark, ajuda, fácil]     |\n",
            "+-----+-------------------------------------+-----------------------------------------------+---------------------------------+\n",
            "\n"
          ]
        }
      ],
      "source": [
        "df.show(truncate = False)"
      ]
    },
    {
      "cell_type": "code",
      "execution_count": null,
      "metadata": {
        "id": "R_7L-KqKu2mw"
      },
      "outputs": [],
      "source": [
        "# exemplo comparando os diferentes stopwords #B\n",
        "remover = StopWordsRemover(inputCol = \"tokens\", outputCol = \"texto_final\", stopWords=stop_B)\n",
        "df = remover.transform(tokenized)"
      ]
    },
    {
      "cell_type": "code",
      "execution_count": null,
      "metadata": {
        "colab": {
          "base_uri": "https://localhost:8080/"
        },
        "id": "PGl5yNFqu7XE",
        "outputId": "a5d293b6-b6d2-4f96-99ae-5da5bf9c71f7"
      },
      "outputs": [
        {
          "output_type": "stream",
          "name": "stdout",
          "text": [
            "+-----+-------------------------------------+-----------------------------------------------+---------------------------------------+\n",
            "|label|texto_limpo                          |tokens                                         |texto_final                            |\n",
            "+-----+-------------------------------------+-----------------------------------------------+---------------------------------------+\n",
            "|1    |Spark é ótimo e NLP com Spark é fácil|[spark, é, ótimo, e, nlp, com, spark, é, fácil]|[spark, é, ótimo, nlp, spark, é, fácil]|\n",
            "|0    |Spark MLlib não ajuda muito          |[spark, mllib, não, ajuda, muito]              |[spark, mllib, ajuda]                  |\n",
            "|1    |O MLlib do Spark ajuda e é fácil     |[o, mllib, do, spark, ajuda, e, é, fácil]      |[mllib, spark, ajuda, é, fácil]        |\n",
            "+-----+-------------------------------------+-----------------------------------------------+---------------------------------------+\n",
            "\n"
          ]
        }
      ],
      "source": [
        "df.show(truncate = False)"
      ]
    },
    {
      "cell_type": "code",
      "execution_count": null,
      "metadata": {
        "id": "geEcoVXN7yw7"
      },
      "outputs": [],
      "source": [
        "# 4. Retirando os stopwords dos depoimentos\n",
        "remover = StopWordsRemover(inputCol = \"tokens\", outputCol = \"texto_final\")\n",
        "feature_data = remover.transform(tokenizado)\n"
      ]
    },
    {
      "cell_type": "code",
      "execution_count": null,
      "metadata": {
        "colab": {
          "base_uri": "https://localhost:8080/"
        },
        "id": "KJvQUrSvvUOw",
        "outputId": "140f0901-f2cb-4cea-f1fa-912d00d2b921"
      },
      "outputs": [
        {
          "output_type": "stream",
          "name": "stdout",
          "text": [
            "+---+--------------------+--------------------+---------+--------------------+--------------------+--------------------+--------------------+\n",
            "| id|             text_en|             text_pt|sentiment|         texto_regex|         texto_limpo|              tokens|         texto_final|\n",
            "+---+--------------------+--------------------+---------+--------------------+--------------------+--------------------+--------------------+\n",
            "|  1|Once again Mr. Co...|Mais uma vez, o S...|      neg|Once again Mr Cos...|Once again Mr Cos...|[once, again, mr,...|[mr, costner, dra...|\n",
            "|  2|This is an exampl...|Este é um exemplo...|      neg|This is an exampl...|This is an exampl...|[this, is, an, ex...|[example, majorit...|\n",
            "|  3|First of all I ha...|Primeiro de tudo ...|      neg|First of all I ha...|First of all I ha...|[first, of, all, ...|[first, hate, mor...|\n",
            "|  4|Not even the Beat...|Nem mesmo os Beat...|      neg|Not even the Beat...|Not even the Beat...|[not, even, the, ...|[even, beatles, w...|\n",
            "|  5|Brass pictures mo...|Filmes de fotos d...|      neg|Brass pictures mo...|Brass pictures mo...|[brass, pictures,...|[brass, pictures,...|\n",
            "|  6|A funny thing hap...|Uma coisa engraça...|      neg|A funny thing hap...|A funny thing hap...|[a, funny, thing,...|[funny, thing, ha...|\n",
            "|  7|This German horro...|Este filme de ter...|      neg|This German horro...|This German horro...|[this, german, ho...|[german, horror, ...|\n",
            "|  8|Being a long-time...|Sendo um fã de lo...|      neg|Being a longtime ...|Being a longtime ...|[being, a, longti...|[longtime, fan, j...|\n",
            "|  9|\"Tokyo Eyes\" tell...|\"Tokyo Eyes\" fala...|      neg|Tokyo Eyes tells ...|Tokyo Eyes tells ...|[tokyo, eyes, tel...|[tokyo, eyes, tel...|\n",
            "| 10|Wealthy horse ran...|Fazendeiros ricos...|      neg|Wealthy horse ran...|Wealthy horse ran...|[wealthy, horse, ...|[wealthy, horse, ...|\n",
            "| 11|Cage plays a drun...|Cage interpreta u...|      neg|Cage plays a drun...|Cage plays a drun...|[cage, plays, a, ...|[cage, plays, dru...|\n",
            "+---+--------------------+--------------------+---------+--------------------+--------------------+--------------------+--------------------+\n",
            "\n"
          ]
        }
      ],
      "source": [
        "feature_data.limit(11).show()"
      ]
    },
    {
      "cell_type": "code",
      "execution_count": null,
      "metadata": {
        "colab": {
          "base_uri": "https://localhost:8080/"
        },
        "id": "CSHuqti10f5r",
        "outputId": "33ea4f46-4131-4a76-c447-7bc9e7251b0d"
      },
      "outputs": [
        {
          "output_type": "stream",
          "name": "stdout",
          "text": [
            "+--------------------+--------------------+-----------+------------------+\n",
            "|              tokens|         texto_final|Freq_tokens|Freq_tokens_limpos|\n",
            "+--------------------+--------------------+-----------+------------------+\n",
            "|[once, again, mr,...|[mr, costner, dra...|        168|                73|\n",
            "|[this, is, an, ex...|[example, majorit...|        232|               131|\n",
            "|[first, of, all, ...|[first, hate, mor...|        215|               111|\n",
            "|[not, even, the, ...|[even, beatles, w...|        308|               169|\n",
            "|[brass, pictures,...|[brass, pictures,...|        238|               140|\n",
            "|[a, funny, thing,...|[funny, thing, ha...|        115|                52|\n",
            "|[this, german, ho...|[german, horror, ...|        156|                74|\n",
            "|[being, a, longti...|[longtime, fan, j...|        136|                73|\n",
            "|[tokyo, eyes, tel...|[tokyo, eyes, tel...|        129|                75|\n",
            "|[wealthy, horse, ...|[wealthy, horse, ...|        160|                99|\n",
            "|[cage, plays, a, ...|[cage, plays, dru...|        109|                58|\n",
            "|[first, of, all, ...|[first, like, say...|        333|               140|\n",
            "|[so, tell, me, , ...|[tell, , serious,...|        243|               139|\n",
            "|[a, big, disappoi...|[big, disappointm...|        110|                50|\n",
            "|[this, film, is, ...|[film, absolutely...|        185|               105|\n",
            "|[heres, a, decide...|[heres, decidedly...|        205|               112|\n",
            "|[at, the, bottom,...|[bottom, end, apo...|        148|                68|\n",
            "|[earth, has, been...|[earth, destroyed...|        196|               116|\n",
            "|[many, people, ar...|[many, people, st...|        350|               191|\n",
            "|[new, york, famil...|[new, york, famil...|         77|                48|\n",
            "+--------------------+--------------------+-----------+------------------+\n",
            "only showing top 20 rows\n",
            "\n"
          ]
        }
      ],
      "source": [
        "# Contagem de tokens antes e depois do stopwords.\n",
        "feature_data.select(\"tokens\", \"texto_final\")\\\n",
        "          .withColumn(\"Freq_tokens\", countTokens(f.col(\"tokens\")))\\\n",
        "          .withColumn(\"Freq_tokens_limpos\",  countTokens(f.col(\"texto_final\"))).show()\n"
      ]
    },
    {
      "cell_type": "code",
      "execution_count": null,
      "metadata": {
        "id": "BJzFBS1PYLB7"
      },
      "outputs": [],
      "source": []
    },
    {
      "cell_type": "markdown",
      "metadata": {
        "id": "J-yaVlzX7zKC"
      },
      "source": [
        "### **Vetorização**\n",
        "\n",
        "\n",
        "A vetorização dos dados permite transformá-los da linguagem humana e não estruturada para uma maneira mais compreensível ao computador, ou seja, **codificando em números**, sendo possível assim associar cada um dos textos a um sentido e significado delimitados. \n",
        "\n",
        "\n",
        "O **Bag of Words**, ou sacola de palavras em português, é uma lista que contém todas as palavras que estão nos textos de maneira não repetida e tem papel importante para **identificar as palavras mais recorrentes** e entender se elas agregam algum sentimento.\n",
        "\n",
        "\n",
        "Aqui no spark o bag of words não é representado por uma matriz do vocabulário como no python, e sim com uma estrutura específica que cria uma **estrutura especifica** que faciliar a compreensão nos modelos. \n",
        "\n",
        "Alternativas para vetorização: matriz_esparsa, countvectorizer, Hashing TF...\n",
        "\n"
      ]
    },
    {
      "cell_type": "code",
      "execution_count": null,
      "metadata": {
        "id": "HDr8oqvy7FcR"
      },
      "outputs": [],
      "source": [
        "# retomando nosso exemplo\n",
        "from pyspark.ml.feature import CountVectorizer\n",
        "\n",
        "cv = CountVectorizer(inputCol=\"texto_final\", outputCol=\"CountVec\")\n",
        "model = cv.fit(df)\n",
        "df = model.transform(df)"
      ]
    },
    {
      "cell_type": "code",
      "execution_count": null,
      "metadata": {
        "colab": {
          "base_uri": "https://localhost:8080/"
        },
        "id": "rh_YSrFW7sZU",
        "outputId": "bdeee81f-5dd4-4451-b2e5-7e887436498f"
      },
      "outputs": [
        {
          "output_type": "stream",
          "name": "stdout",
          "text": [
            "+---------------------------------------+-------------------------------------+\n",
            "|texto_final                            |CountVec                             |\n",
            "+---------------------------------------+-------------------------------------+\n",
            "|[spark, é, ótimo, nlp, spark, é, fácil]|(7,[0,1,2,5,6],[2.0,2.0,1.0,1.0,1.0])|\n",
            "|[spark, mllib, ajuda]                  |(7,[0,3,4],[1.0,1.0,1.0])            |\n",
            "|[mllib, spark, ajuda, é, fácil]        |(7,[0,1,2,3,4],[1.0,1.0,1.0,1.0,1.0])|\n",
            "+---------------------------------------+-------------------------------------+\n",
            "\n"
          ]
        }
      ],
      "source": [
        "## primeiro argumento: tamanho do vocabulário (numero de palavras diferentes)\n",
        "## segundo argumento: index do vocabulario daquelas palavras existentes\n",
        "## terceiro argumento: frequencia de cada uma dessas palavras\n",
        "\n",
        "df.select('texto_final', 'CountVec').show(truncate = False)"
      ]
    },
    {
      "cell_type": "code",
      "execution_count": null,
      "metadata": {
        "colab": {
          "base_uri": "https://localhost:8080/"
        },
        "id": "Uif5vtd-iLoE",
        "outputId": "026f16ea-ca2e-4c50-f9a5-480207665208"
      },
      "outputs": [
        {
          "output_type": "execute_result",
          "data": {
            "text/plain": [
              "['spark', 'é', 'fácil', 'ajuda', 'mllib', 'nlp', 'ótimo']"
            ]
          },
          "metadata": {},
          "execution_count": 33
        }
      ],
      "source": [
        "# Quem são as palavras e a ordem\n",
        "model.vocabulary"
      ]
    },
    {
      "cell_type": "markdown",
      "metadata": {
        "id": "fJASiJlCLOIh"
      },
      "source": [
        "#### **[CountVector](https://spark.apache.org/docs/3.2.1/api/python/reference/api/pyspark.ml.feature.CountVectorizer.html)**: Frequência das palavras em cada\n",
        "\n",
        "Para cada observação é gerado vetor com a seguintes estrutura: \\\\\n",
        " `[número de features, [cód. das palavras na ordem do vocabulário],[frequência de cada palavra]]`"
      ]
    },
    {
      "cell_type": "code",
      "execution_count": null,
      "metadata": {
        "colab": {
          "base_uri": "https://localhost:8080/"
        },
        "id": "hqgxSUnY-1Li",
        "outputId": "6b62034e-4357-41d3-98d5-10b71afc0ec0"
      },
      "outputs": [
        {
          "output_type": "stream",
          "name": "stdout",
          "text": [
            "+--------------------+--------------------+\n",
            "|         texto_final|            CountVec|\n",
            "+--------------------+--------------------+\n",
            "|[mr, costner, dra...|(216710,[0,7,8,11...|\n",
            "|[example, majorit...|(216710,[1,2,3,8,...|\n",
            "|[first, hate, mor...|(216710,[0,2,4,11...|\n",
            "|[even, beatles, w...|(216710,[0,1,2,4,...|\n",
            "|[brass, pictures,...|(216710,[1,3,5,8,...|\n",
            "+--------------------+--------------------+\n",
            "\n"
          ]
        }
      ],
      "source": [
        "# Countvectorizer\n",
        "\n",
        "from pyspark.ml.feature import CountVectorizer\n",
        "cv = CountVectorizer(inputCol=\"texto_final\", outputCol=\"CountVec\")\n",
        "model = cv.fit(feature_data)\n",
        "countVectorizer_features = model.transform(feature_data)\n",
        "\n",
        "countVectorizer_features.select('texto_final','CountVec').limit(5).show()#truncate=False"
      ]
    },
    {
      "cell_type": "markdown",
      "metadata": {
        "id": "9sB_XxScLTla"
      },
      "source": [
        "#### **[Hashing TF](https://spark.apache.org/docs/3.2.1/api/python/reference/api/pyspark.ml.feature.HashingTF.html)**: alternativa para o Countvector\n",
        "\n",
        "É gerado a mesma estrutura, entretando aqui limitamos o número de palavras contabilizadas."
      ]
    },
    {
      "cell_type": "code",
      "execution_count": null,
      "metadata": {
        "id": "UIOOFIa45jQf"
      },
      "outputs": [],
      "source": [
        "# Hashing TF\n",
        "# Hashing TF é uma opção alternativa para o countvector que limita a quantidade de palavras, no caso, 50 palavras diferentes serão contadas. #numFeatures=1000\n",
        "from pyspark.ml.feature import HashingTF\n",
        "\n",
        "hashingTF = HashingTF(inputCol=\"texto_final\", outputCol=\"hashingTF\")\n",
        "hashingTF.setNumFeatures(50)\n",
        "\n",
        "HTFfeaturizedData = hashingTF.transform(countVectorizer_features)\n",
        "\n",
        "\n"
      ]
    },
    {
      "cell_type": "code",
      "execution_count": null,
      "metadata": {
        "colab": {
          "base_uri": "https://localhost:8080/"
        },
        "id": "WAp3d2Kr-wYE",
        "outputId": "a9ee08dd-4c4f-432c-c02a-105c08c3c3ee"
      },
      "outputs": [
        {
          "output_type": "stream",
          "name": "stdout",
          "text": [
            "+--------------------+--------------------+\n",
            "|         texto_final|           hashingTF|\n",
            "+--------------------+--------------------+\n",
            "|[mr, costner, dra...|(50,[0,5,6,7,8,10...|\n",
            "|[example, majorit...|(50,[0,1,2,3,4,5,...|\n",
            "|[first, hate, mor...|(50,[0,1,2,3,5,6,...|\n",
            "|[even, beatles, w...|(50,[0,1,2,3,4,5,...|\n",
            "|[brass, pictures,...|(50,[0,1,2,3,4,5,...|\n",
            "+--------------------+--------------------+\n",
            "\n"
          ]
        }
      ],
      "source": [
        "HTFfeaturizedData.select(\"texto_final\", \"hashingTF\").limit(5).show()"
      ]
    },
    {
      "cell_type": "markdown",
      "metadata": {
        "id": "WT6ThIXvLPHb"
      },
      "source": [
        "#### **TF-IDF**: estabelecendo pesos\n",
        "\n",
        "O TF-IDF não apenas contabiliza as diferentes palavras, mas também gera pesos para cada um a partir da predomância nos dados."
      ]
    },
    {
      "cell_type": "code",
      "execution_count": null,
      "metadata": {
        "id": "oanFmBnaDEsz"
      },
      "outputs": [],
      "source": [
        "#TF-IDF - ponderação de palavras (pesos)\n",
        "from pyspark.ml.feature import IDF\n",
        "idf = IDF(inputCol=\"hashingTF\", outputCol=\"features\")\n",
        "idfModel = idf.fit(HTFfeaturizedData)\n",
        "TFIDFfeaturizedData = idfModel.transform(HTFfeaturizedData)\n"
      ]
    },
    {
      "cell_type": "code",
      "execution_count": null,
      "metadata": {
        "colab": {
          "base_uri": "https://localhost:8080/"
        },
        "id": "XBaQVX8HDE3S",
        "outputId": "f3a01ad8-b3c2-489e-d11e-313b96b02aa4"
      },
      "outputs": [
        {
          "output_type": "stream",
          "name": "stdout",
          "text": [
            "+-------------------------------------------------------------------------------------------------------------------------------------------------------------------------------------------------------------------------------------------------------------------------------------------------------------------------------------------------------------------------------------------------------------------------------------------------------------------------------------------------------------------------------------------------------------------------------------------------------------------------------------------------------------------------------------------------------------------------------------------------------------------------------------------------------------------------------------------------------------------------------------------------------------------------------------------------------------------------------------------------------------------------------------------------------------------------------------------------------------------------------------------------------------------------------------------------------------------------------------------------------------------------------------------------------------------+---------------------------------------------------------------------------------------------------------------------------------------------------------------------------------------------------------------------------------------------------------------------------------------------------------------------------------------------------------------------------------------------------------------------------------------------------------------------------------------------------------------------------------------------------------------------------------------------------------------------------------------------------------------------------------------------------------------------------------------------------------------------------------------------------------------------------------------------------------------------------------------------------------------------------------------------------------------------------------------------------------------------------------------------------------------------------------------------+\n",
            "|texto_final                                                                                                                                                                                                                                                                                                                                                                                                                                                                                                                                                                                                                                                                                                                                                                                                                                                                                                                                                                                                                                                                                                                                                                                                                                                                                                        |features                                                                                                                                                                                                                                                                                                                                                                                                                                                                                                                                                                                                                                                                                                                                                                                                                                                                                                                                                                                                                                                                                     |\n",
            "+-------------------------------------------------------------------------------------------------------------------------------------------------------------------------------------------------------------------------------------------------------------------------------------------------------------------------------------------------------------------------------------------------------------------------------------------------------------------------------------------------------------------------------------------------------------------------------------------------------------------------------------------------------------------------------------------------------------------------------------------------------------------------------------------------------------------------------------------------------------------------------------------------------------------------------------------------------------------------------------------------------------------------------------------------------------------------------------------------------------------------------------------------------------------------------------------------------------------------------------------------------------------------------------------------------------------+---------------------------------------------------------------------------------------------------------------------------------------------------------------------------------------------------------------------------------------------------------------------------------------------------------------------------------------------------------------------------------------------------------------------------------------------------------------------------------------------------------------------------------------------------------------------------------------------------------------------------------------------------------------------------------------------------------------------------------------------------------------------------------------------------------------------------------------------------------------------------------------------------------------------------------------------------------------------------------------------------------------------------------------------------------------------------------------------+\n",
            "|[mr, costner, dragged, movie, far, longer, necessary, aside, terrific, sea, rescue, sequences, care, characters, us, ghosts, closet, costners, character, realized, early, forgotten, much, later, time, care, character, really, care, cocky, overconfident, ashton, kutcher, problem, comes, kid, thinks, hes, better, anyone, else, around, shows, signs, cluttered, closet, obstacle, appears, winning, costner, finally, well, past, half, way, point, stinker, costner, tells, us, kutchers, ghosts, told, kutcher, driven, best, prior, inkling, foreshadowing, magic, keep, turning, hour]                                                                                                                                                                                                                                                                                                                                                                                                                                                                                                                                                                                                                                                                                                                 |(50,[0,5,6,7,8,10,11,12,13,15,16,17,19,21,22,23,24,25,26,27,29,30,31,33,34,35,37,38,39,40,41,42,43,44,47,48,49],[0.22233514383283537,0.1998375969275785,0.17619398783498014,0.5587548927975542,0.5741244698743148,1.5157760793134183,1.307304913409321,0.1603567151189746,0.20230972495725574,0.31029723321704944,1.581846945779354,0.9550285132417945,0.248197000328582,0.42671641869152205,1.382464882404761,0.21807654777114394,0.2690668220783183,0.2519876373319553,0.21421166317304804,0.3778202733257666,0.6544375621431859,0.2057561660166335,0.30481136565707384,0.5127868952107937,0.19643606542499614,0.4586076262978574,0.25388835783440905,0.22549670195156435,0.11406976048237878,0.21503859617595494,0.23404484976189782,0.4899776023049222,0.2358093530262909,0.2981975270523391,0.4754103706524901,0.8841473458754796,0.5629482546646647])                                                                                                                                                                                                                                  |\n",
            "|[example, majority, action, films, generic, boring, theres, really, nothing, worth, watching, complete, waste, barelytapped, talents, icet, ice, cube, whove, proven, many, times, capable, acting, acting, well, dont, bother, one, go, see, new, jack, city, ricochet, watch, new, york, undercover, icet, boyz, n, hood, higher, learning, friday, ice, cube, see, real, deal, icets, horribly, cliched, dialogue, alone, makes, film, grate, teeth, im, still, wondering, heck, bill, paxton, film, heck, always, play, exact, character, aliens, onward, every, film, ive, seen, bill, paxton, playing, exact, irritating, character, least, aliens, character, died, made, somewhat, gratifyingoverall, secondrate, action, trash, countless, better, films, see, really, want, see, one, watch, judgement, night, practically, carbon, copy, better, acting, better, script, thing, made, worth, watching, decent, hand, camera, , cinematography, almost, refreshing, comes, close, making, horrible, film, , quite, 410]                                                                                                                                                                                                                                                                                  |(50,[0,1,2,3,4,5,6,7,8,9,10,11,12,14,15,16,17,18,19,20,22,23,24,25,27,29,30,31,32,33,34,35,37,38,39,40,41,42,43,44,45,47,48,49],[1.778681150662683,0.3014986085241636,1.0586950886205537,0.502030443068144,0.9785089236023529,0.799350387710314,0.3523879756699603,0.5587548927975542,0.5741244698743148,0.7379941985337378,0.5684160297425318,0.9804786850569909,0.9621402907138475,0.3943463985674309,0.6205944664340989,0.4519562702226726,2.148814154794038,0.5321097023783236,0.248197000328582,0.7628275419746108,2.073697323607141,0.8723061910845757,0.2690668220783183,0.5039752746639106,0.1889101366628833,0.6544375621431859,0.2057561660166335,1.2192454626282954,0.509288884790927,0.7691803428161905,0.7857442616999846,1.1465190657446436,0.25388835783440905,0.4509934039031287,0.34220928144713636,0.4300771923519099,0.46808969952379564,0.7349664034573833,0.7074280590788727,0.5963950541046782,0.80114827310616,0.23770518532624504,0.8841473458754796,0.5629482546646647])                                                                                            |\n",
            "|[first, hate, moronic, rappers, couldnt, act, gun, pressed, foreheads, curse, shoot, acting, like, clichã©e, version, gangstersthe, movie, doesnt, take, five, minutes, explain, going, already, warehouse, single, sympathetic, character, movie, except, homeless, guy, also, one, half, brainbill, paxton, william, sadler, hill, billies, sadlers, character, much, villain, gangsters, didnt, like, right, startthe, movie, filled, pointless, violence, walter, hills, specialty, people, falling, windows, glass, flying, everywhere, pretty, much, plot, big, problem, root, noone, everybody, dies, except, paxton, homeless, guy, everybody, get, deservethe, two, black, people, act, homeless, guy, junkie, theyre, actors, profession, annoying, ugly, brain, dead, rappersstay, away, crap, watch, 48, hours, 1, 2, instead, lest, characters, care, sense, humor, nothing, real, actors, cast]                                                                                                                                                                                                                                                                                                                                                                                                      |(50,[0,1,2,3,5,6,7,8,9,10,11,12,13,14,15,16,17,19,20,21,22,23,24,26,27,28,29,30,31,32,33,34,35,36,37,38,39,40,41,42,44,45,47,48,49],[0.22233514383283537,0.9044958255724909,0.35289836287351795,0.08367174051135734,0.399675193855157,0.3523879756699603,0.37250326186503613,0.2870622349371574,0.7379941985337378,0.3789440198283546,0.9804786850569909,0.801783575594873,0.6069291748717672,0.3943463985674309,0.15514861660852472,0.2259781351113363,0.9550285132417945,0.496394000657164,1.5256550839492216,0.8534328373830441,0.34561622060119024,0.43615309554228787,0.8072004662349548,0.4284233263460961,0.3778202733257666,0.8412091861668733,0.6544375621431859,1.234536996099801,0.30481136565707384,0.509288884790927,0.5127868952107937,0.7857442616999846,0.2293038131489287,0.39452636797311785,0.25388835783440905,0.676490105854693,0.6844185628942727,0.6451157885278649,0.7021345492856934,0.7349664034573833,0.8945925811570172,0.40057413655308,0.9508207413049802,1.4735789097924659,0.28147412733233235])                                                             |\n",
            "|[even, beatles, write, songs, everyone, liked, although, walter, hill, moptop, hes, second, none, comes, thought, provoking, action, movies, nineties, came, social, platforms, changing, music, film, emergence, rapper, turned, movie, star, full, swing, acting, took, back, seat, mans, overpowering, regional, accent, transparent, acting, one, many, icet, movies, saw, kid, loved, watch, later, cringe, bill, paxton, william, sadler, firemen, basic, lives, burning, building, tenant, go, flames, hands, map, gold, implications, hand, walter, quickly, neatly, setting, main, characters, location, fault, everyone, involved, turning, lameo, performances, icet, cube, must, red, hot, time, ive, enjoyed, careers, rappers, opinion, fell, flat, movie, ninety, minutes, one, guy, ridiculously, turning, back, guy, point, find, locked, multiple, states, disbelief, movie, documentary, wont, waste, time, recounting, stupid, plot, twists, movie, many, led, nowhere, got, feeling, watching, everyone, set, sord, confused, playing, things, cuff, two, things, still, enjoy, one, involves, scene, needle, sadlers, huge, 45, pistol, bottom, line, movie, like, dominos, pizza, yeah, ill, eat, im, hungry, dont, feel, like, cooking, im, well, aware, tastes, like, crap, 3, stars, meh]|(50,[0,1,2,3,4,5,6,7,8,9,10,11,12,13,14,15,16,17,18,20,21,22,23,24,25,26,27,28,29,30,31,32,33,34,35,36,37,38,39,40,41,42,43,44,45,47,48,49],[0.44467028766567074,0.3014986085241636,0.7057967257470359,0.33468696204542936,0.48925446180117643,0.799350387710314,0.7047759513399205,0.9312581546625903,0.5741244698743148,1.4759883970674756,1.5157760793134183,0.6536524567046605,0.9621402907138475,0.809238899829023,0.3943463985674309,0.9308916996511483,0.2259781351113363,0.7162713849313459,0.7981645535674853,2.669896396911138,0.42671641869152205,0.6912324412023805,1.7446123821691515,0.5381336441566366,0.7559629119958658,0.6426349895191441,0.3778202733257666,0.28040306205562443,0.9816563432147789,1.4402931621164345,0.6096227313141477,0.7639333271863906,0.5127868952107937,0.9821803271249807,1.1465190657446436,0.7890527359462357,0.5077767156688181,0.676490105854693,0.6844185628942727,0.21503859617595494,0.7021345492856934,1.4699328069147666,1.4148561181577455,0.7454938176308478,2.0028706827654,0.9508207413049802,0.5894315639169864,1.1258965093293294])|\n",
            "|[brass, pictures, movies, fitting, word, really, somewhat, brassy, alluring, visual, qualities, reminiscent, expensive, high, class, tv, commercials, unfortunately, brass, pictures, feature, films, pretense, wanting, entertain, viewers, two, hours, fail, miserably, undeniable, rather, soft, flabby, steamy, erotic, qualities, non, withstandingsenso, 45, remake, film, luchino, visconti, title, alida, valli, farley, granger, lead, original, tells, story, senseless, love, lust, around, venice, italian, wars, independence, brass, moved, action, 19th, 20th, century, 1945, exact, mussolini, murals, men, black, shirts, german, uniforms, tattered, garb, partisans, window, dressing, historic, context, completely, negligibleanna, galiena, plays, attractive, aristocratic, woman, falls, amoral, ss, guy, always, puts, much, lipstick, attractive, versatile, well, trained, italian, actress, clearly, material, wide, range, facial, expressions, signalling, boredom, loathing, delight, fear, hate, , ecstasy, best, reason, watch, picture, worth, two, stars, endures, basically, trashy, stuff, astonishing, amount, dignity, wish, really, good, parts, come, along, really, deserves]                                                                                            |(50,[0,1,2,3,4,5,6,7,8,10,11,12,13,14,15,16,17,18,19,20,22,23,24,25,26,27,28,29,30,31,32,33,34,35,36,37,38,39,40,41,42,43,44,45,46,47,48,49],[0.22233514383283537,0.3014986085241636,1.0586950886205537,0.251015221534072,0.24462723090058822,0.399675193855157,0.5285819635049405,0.7450065237300723,0.8611867048114721,0.1894720099141773,0.3268262283523303,0.801783575594873,1.0115486247862786,1.1830391957022928,0.6205944664340989,0.6779344053340088,0.9550285132417945,1.0642194047566471,0.496394000657164,0.7628275419746108,1.0368486618035706,0.8723061910845757,0.5381336441566366,0.5039752746639106,0.8568466526921922,0.7556405466515332,1.402015310278122,0.6544375621431859,0.6172684980499005,1.2192454626282954,0.2546444423954635,0.7691803428161905,0.5893081962749884,0.6879114394467861,0.39452636797311785,1.2694417891720453,0.22549670195156435,0.45627904192951513,1.0751929808797747,0.46808969952379564,0.7349664034573833,0.2358093530262909,1.0436913446831868,0.40057413655308,0.3510872108597927,0.7131155559787351,0.5894315639169864,1.688844763993994])|\n",
            "+-------------------------------------------------------------------------------------------------------------------------------------------------------------------------------------------------------------------------------------------------------------------------------------------------------------------------------------------------------------------------------------------------------------------------------------------------------------------------------------------------------------------------------------------------------------------------------------------------------------------------------------------------------------------------------------------------------------------------------------------------------------------------------------------------------------------------------------------------------------------------------------------------------------------------------------------------------------------------------------------------------------------------------------------------------------------------------------------------------------------------------------------------------------------------------------------------------------------------------------------------------------------------------------------------------------------+---------------------------------------------------------------------------------------------------------------------------------------------------------------------------------------------------------------------------------------------------------------------------------------------------------------------------------------------------------------------------------------------------------------------------------------------------------------------------------------------------------------------------------------------------------------------------------------------------------------------------------------------------------------------------------------------------------------------------------------------------------------------------------------------------------------------------------------------------------------------------------------------------------------------------------------------------------------------------------------------------------------------------------------------------------------------------------------------+\n",
            "\n"
          ]
        }
      ],
      "source": [
        "TFIDFfeaturizedData.select('texto_final', 'features').limit(5).show(truncate = False)"
      ]
    },
    {
      "cell_type": "markdown",
      "metadata": {
        "id": "W4zF6PSoSLnM"
      },
      "source": [
        "#### **Codificando**: variável resposta.\n",
        "Lembrando que ensinaremos que todas essas palavras estarão associadas ao sentimento do depoimento, positivo ou negativo, entretando precisamos codificar `neg` e `pos` para 0 e 1 e podemos usar o `StringIndexer`\n",
        "\n"
      ]
    },
    {
      "cell_type": "code",
      "source": [
        "# Lembra que nosso dados estão em texto? Aqui no Pyspark precisamos converter para número e faremos isso com o stringindexer\n",
        "\n",
        "TFIDFfeaturizedData.groupBy('sentiment').count().show()"
      ],
      "metadata": {
        "colab": {
          "base_uri": "https://localhost:8080/"
        },
        "id": "ww7cfiHCpWtZ",
        "outputId": "1e6d4cba-b850-44c9-d133-f98ac8cb717e"
      },
      "execution_count": null,
      "outputs": [
        {
          "output_type": "stream",
          "name": "stdout",
          "text": [
            "+---------+-----+\n",
            "|sentiment|count|\n",
            "+---------+-----+\n",
            "|      pos|24694|\n",
            "|      neg|24765|\n",
            "+---------+-----+\n",
            "\n"
          ]
        }
      ]
    },
    {
      "cell_type": "code",
      "execution_count": null,
      "metadata": {
        "id": "bRhJvz0IoOLi"
      },
      "outputs": [],
      "source": [
        "# Codificando a variável resposta.\n",
        "# 1. replace\n",
        "# 2. stringindexer (sentiment -> label)\n",
        "\n",
        "from pyspark.ml.feature import StringIndexer\n",
        "\n",
        "stringindexer = StringIndexer(inputCol=\"sentiment\", outputCol=\"label\")\n",
        "dados = stringindexer.fit(dados).transform(dados)\n",
        "\n"
      ]
    },
    {
      "cell_type": "code",
      "execution_count": null,
      "metadata": {
        "colab": {
          "base_uri": "https://localhost:8080/"
        },
        "id": "Fxt17zD4oSch",
        "outputId": "6107f467-4582-4431-911b-47d777c92005"
      },
      "outputs": [
        {
          "output_type": "stream",
          "name": "stdout",
          "text": [
            "+---------+-----+-----+\n",
            "|sentiment|label|count|\n",
            "+---------+-----+-----+\n",
            "|      pos|  1.0|24694|\n",
            "|      neg|  0.0|24765|\n",
            "+---------+-----+-----+\n",
            "\n"
          ]
        }
      ],
      "source": [
        "# Quem é 0 e quem é 1?\n",
        "dados.groupBy(['sentiment','label']).count().show()"
      ]
    },
    {
      "cell_type": "markdown",
      "metadata": {
        "id": "BYodI0WWUXUM"
      },
      "source": [
        "#### **Pipeline**: Transformação dos dados\n",
        "\n"
      ]
    },
    {
      "cell_type": "code",
      "source": [
        "# Unindo nossas transformações.\n",
        "from pyspark.ml import Pipeline\n",
        "\n",
        "\n",
        "tokenizer = Tokenizer(inputCol=\"texto_limpo\", outputCol=\"tokens\")\n",
        "stopwords = StopWordsRemover(inputCol=\"tokens\", outputCol=\"texto_final\")\n",
        "hashingTF = HashingTF(inputCol=stopwords.getOutputCol(), outputCol=\"HTF\", numFeatures=1000)\n",
        "tfidf = IDF(inputCol=\"HTF\", outputCol=\"features\")\n",
        "\n",
        "\n",
        "pipeline = Pipeline(stages = [tokenizer,stopwords, hashingTF, tfidf])"
      ],
      "metadata": {
        "id": "pPrrzNMsUTJK"
      },
      "execution_count": null,
      "outputs": []
    },
    {
      "cell_type": "code",
      "source": [
        "dados_transformados = pipeline.fit(dados).transform(dados)"
      ],
      "metadata": {
        "id": "Fsn6vgYrUTaW"
      },
      "execution_count": null,
      "outputs": []
    },
    {
      "cell_type": "code",
      "source": [
        "dados_transformados.limit(5).show()"
      ],
      "metadata": {
        "colab": {
          "base_uri": "https://localhost:8080/"
        },
        "id": "B5bC1RiNUTd6",
        "outputId": "4d13d7fa-6594-454d-9cb3-b74a33c32c9c"
      },
      "execution_count": null,
      "outputs": [
        {
          "output_type": "stream",
          "name": "stdout",
          "text": [
            "+---+--------------------+--------------------+---------+--------------------+--------------------+-----+--------------------+--------------------+--------------------+--------------------+\n",
            "| id|             text_en|             text_pt|sentiment|         texto_regex|         texto_limpo|label|              tokens|         texto_final|                 HTF|            features|\n",
            "+---+--------------------+--------------------+---------+--------------------+--------------------+-----+--------------------+--------------------+--------------------+--------------------+\n",
            "|  1|Once again Mr. Co...|Mais uma vez, o S...|      neg|Once again Mr Cos...|Once again Mr Cos...|  0.0|[once, again, mr,...|[mr, costner, dra...|(1000,[10,21,34,4...|(1000,[10,21,34,4...|\n",
            "|  2|This is an exampl...|Este é um exemplo...|      neg|This is an exampl...|This is an exampl...|  0.0|[this, is, an, ex...|[example, majorit...|(1000,[0,3,11,12,...|(1000,[0,3,11,12,...|\n",
            "|  3|First of all I ha...|Primeiro de tudo ...|      neg|First of all I ha...|First of all I ha...|  0.0|[first, of, all, ...|[first, hate, mor...|(1000,[1,7,33,38,...|(1000,[1,7,33,38,...|\n",
            "|  4|Not even the Beat...|Nem mesmo os Beat...|      neg|Not even the Beat...|Not even the Beat...|  0.0|[not, even, the, ...|[even, beatles, w...|(1000,[0,3,10,12,...|(1000,[0,3,10,12,...|\n",
            "|  5|Brass pictures mo...|Filmes de fotos d...|      neg|Brass pictures mo...|Brass pictures mo...|  0.0|[brass, pictures,...|[brass, pictures,...|(1000,[3,6,7,11,3...|(1000,[3,6,7,11,3...|\n",
            "+---+--------------------+--------------------+---------+--------------------+--------------------+-----+--------------------+--------------------+--------------------+--------------------+\n",
            "\n"
          ]
        }
      ]
    },
    {
      "cell_type": "markdown",
      "metadata": {
        "id": "xfeUbV-J2YD_"
      },
      "source": [
        "### **Modelo**\n",
        "\n",
        "Nosso objetivo é consguir identificar um comentário negativo ou positivo, para isso precisamos criar um modelo em que o computador consiga classificar os depoimentos. Agora que já processamos nossos dados podemos construir um **modelo de classificação**, veja alguma opções:\n",
        "\n",
        "* Regressão Logística\n",
        "* Árvore de Decisão\n",
        "* Florestas Aleatórias\n",
        "* GX boost\n",
        "* entre outros...\n",
        "\n",
        "Para testar nossos dados usaremos todos os procedimentos realizados em Limpeza e processamento dos dados e a vetorização que estabelece pesos para as palavras construidas a partir do TF-IDF.\n",
        "\n",
        "\n",
        "\n"
      ]
    },
    {
      "cell_type": "code",
      "source": [
        "# Entendendo nossos dados\n",
        "featureDF = dados_transformados.select(['features', 'label'])\n"
      ],
      "metadata": {
        "id": "JBSJBnZsCCdL"
      },
      "execution_count": null,
      "outputs": []
    },
    {
      "cell_type": "code",
      "source": [
        "featureDF.limit(5).show(truncate=False)"
      ],
      "metadata": {
        "colab": {
          "base_uri": "https://localhost:8080/"
        },
        "id": "qcQ5wOsuB2t1",
        "outputId": "0c758eb7-3662-4c0c-df51-80c45cabead1"
      },
      "execution_count": null,
      "outputs": [
        {
          "output_type": "stream",
          "name": "stdout",
          "text": [
            "+-------------------------------------------------------------------------------------------------------------------------------------------------------------------------------------------------------------------------------------------------------------------------------------------------------------------------------------------------------------------------------------------------------------------------------------------------------------------------------------------------------------------------------------------------------------------------------------------------------------------------------------------------------------------------------------------------------------------------------------------------------------------------------------------------------------------------------------------------------------------------------------------------------------------------------------------------------------------------------------------------------------------------------------------------------------------------------------------------------------------------------------------------------------------------------------------------------------------------------------------------------------------------------------------------------------------------------------------------------------------------------------------------------------------------------------------------------------------------------------------------------------------------------------------------------------------------------------------------------------------------------------------------------------------------------------------------------------------------------------------------------------------------------------------------------------------------------------------------------------------------------------------------------------------------------------------------------------------------------------------------------------------------------------------------------------------------------------------------------------------------------------------------------------------------------------------------------------------------------------------------------------------------------------------------------------------------------------------------------------------------------------------------------------------------------------------------------------------------------------------------------------------------------------------------------------------------------------------------------------------------------------------------------------------------------------------------------------------------------------------------------------------------------------------------------------------------------------------------------------------------------------------------------------------------------------------------------------------------------------------------------------------------------------------------------------------------------------------------------------------------------------------------------------------------------------------------------------------+-----+\n",
            "|features                                                                                                                                                                                                                                                                                                                                                                                                                                                                                                                                                                                                                                                                                                                                                                                                                                                                                                                                                                                                                                                                                                                                                                                                                                                                                                                                                                                                                                                                                                                                                                                                                                                                                                                                                                                                                                                                                                                                                                                                                                                                                                                                                                                                                                                                                                                                                                                                                                                                                                                                                                                                                                                                                                                                                                                                                                                                                                                                                                                                                                                                                                                                                                                                           |label|\n",
            "+-------------------------------------------------------------------------------------------------------------------------------------------------------------------------------------------------------------------------------------------------------------------------------------------------------------------------------------------------------------------------------------------------------------------------------------------------------------------------------------------------------------------------------------------------------------------------------------------------------------------------------------------------------------------------------------------------------------------------------------------------------------------------------------------------------------------------------------------------------------------------------------------------------------------------------------------------------------------------------------------------------------------------------------------------------------------------------------------------------------------------------------------------------------------------------------------------------------------------------------------------------------------------------------------------------------------------------------------------------------------------------------------------------------------------------------------------------------------------------------------------------------------------------------------------------------------------------------------------------------------------------------------------------------------------------------------------------------------------------------------------------------------------------------------------------------------------------------------------------------------------------------------------------------------------------------------------------------------------------------------------------------------------------------------------------------------------------------------------------------------------------------------------------------------------------------------------------------------------------------------------------------------------------------------------------------------------------------------------------------------------------------------------------------------------------------------------------------------------------------------------------------------------------------------------------------------------------------------------------------------------------------------------------------------------------------------------------------------------------------------------------------------------------------------------------------------------------------------------------------------------------------------------------------------------------------------------------------------------------------------------------------------------------------------------------------------------------------------------------------------------------------------------------------------------------------------------------------------+-----+\n",
            "|(1000,[10,21,34,48,72,77,83,90,92,112,122,157,158,197,211,216,229,258,275,288,299,310,319,383,391,410,416,439,450,492,524,527,543,560,594,605,611,617,647,660,665,666,685,698,723,748,756,757,763,776,780,799,811,817,837,865,867,885,931,979],[1.7480076825911535,2.3386083355593,1.7840657292363356,1.7601573647552795,5.22772370036066,2.834386696945179,1.8263584488179623,2.417743190242657,2.1064092838854167,1.0503999587918849,6.227232812223681,1.2747066264626457,1.6259503658953565,1.8813400372319373,2.6255221710769745,4.080068429881088,2.514619932218172,2.6026088152813864,1.4987338341295084,2.4975212626387666,3.167355099814435,7.525172804627012,2.119791885751702,2.0876433010837023,1.266545339076943,1.4888283051401054,2.2009719863907056,0.49117233274961963,2.6398663911480647,2.6735725921687004,1.2012806503241205,1.3306152275135472,1.4355253826629266,1.931677105081488,2.117282889579572,2.3033941545268517,4.324908027910061,2.040500814218004,2.401764454868107,3.381827560604041,2.0986297196972568,8.32067867038752,1.982331710301739,2.4975212626387666,2.1144173346887594,1.7970301078230626,2.4222907196802863,3.399177586994484,1.5758396821297351,2.8444161775238594,2.0264432721508676,2.186645873208662,3.2364165560550227,1.1968543806067833,2.0896021655690356,2.31376748053605,2.917286657603415,2.5695901131736125,2.342177893155268,2.8640728300734106])                                                                                                                                                                                                                                                                                                                                                                                                                                                                                                                                                                                                                                                                                                                                                                                                                                                                                                                                                                                                                                                                                                                                                                                                                                                                                                                                                                                                                                                                                                                                                                                                                                                                                                                                                                                                          |0.0  |\n",
            "|(1000,[0,3,11,12,17,56,61,72,112,135,148,157,167,172,173,188,216,218,230,244,245,252,275,292,305,310,312,331,341,344,352,354,360,364,372,389,407,410,420,422,423,432,433,434,451,453,467,474,482,492,495,497,543,548,561,566,585,588,589,599,606,623,633,634,635,650,665,679,681,691,700,702,708,712,740,765,781,798,800,805,815,817,839,849,853,857,867,868,869,884,887,959,977,990,992],[1.5810339898834755,2.3576703752818498,2.0188026481829344,2.274279436055449,5.9270070089658455,1.7353156926726954,1.6720104471851074,2.61386185018033,2.1007999175837697,5.826222327984449,2.1614000879835955,0.6373533132313228,2.886230132950305,7.340105082259767,1.6928898485704658,1.1186252090003208,2.040034214940544,2.3908839211923882,3.117719443552544,2.6841765206898396,3.2271999009500987,2.488471427118849,2.997467668259017,1.842052986886685,1.9694979334548053,2.5083909348756706,1.4830208284649522,3.791413398134151,2.4082601659151215,3.3825408117213334,2.469179775056264,4.115147070277537,1.782502007260153,3.2593103759208755,2.343488070509735,2.898328928818929,3.1190908723389232,1.4888283051401054,6.02736922414647,2.8815951807656135,2.4010948867145347,2.021088711816647,2.230443121242271,3.913081309126844,1.625025819114208,1.329850584564531,2.8654917731990346,3.665301938371286,2.2162478884832644,2.6735725921687004,2.362578090631121,2.409159446551265,4.30657614798878,2.5669529808436047,2.6339350081323194,1.4928687146771102,3.27214674705361,2.1709256495134657,2.224067701185355,2.208672794523884,2.598795135911141,2.8624041193821848,4.525889096467435,1.4903527640283531,2.255008766724007,7.5391825975575815,2.0986297196972568,3.8356414209175425,1.5938901796130929,1.5669836075094739,2.4013180262892644,2.3796836284183116,2.45554904250937,2.1942748732871493,1.8751234971405495,2.3818698995121355,3.766664404090251,2.2841550841628515,5.105662814520996,3.8408127093170483,1.0951654687455563,1.1968543806067833,3.0336436945885445,2.7008983196986605,1.1179447474974635,1.7352010466421888,4.375929986405122,2.7926016425719924,1.8471687417449092,3.1592269173638927,2.2259386091211666,6.37348989251557,1.2727346355530946,2.282964843990597,2.5627479812178433])                                                                                                                                                                                                                                                                                                                                                                                                                                                                                                                                                                                                                                                                                                                                                                                                                                                                                                                                                                                      |0.0  |\n",
            "|(1000,[1,7,33,38,48,69,73,94,106,117,134,144,216,239,240,263,286,292,310,312,313,330,341,347,394,395,403,410,412,420,422,423,426,439,447,477,485,490,497,524,527,530,538,561,579,594,602,612,620,626,633,641,648,657,688,691,698,700,706,708,714,721,728,737,751,780,784,789,790,792,805,815,820,832,855,867,871,884,889,892,898,901,919,928,930,931,932,948,949,959,961,967,974,997],[2.0411232854488097,2.026136523682205,2.6466884755942273,1.824852613422362,1.7601573647552795,2.162102581865664,2.6889257133503017,6.189472625099686,1.4871272438050815,2.425943691778978,3.5799636692587433,1.707836155036174,2.040034214940544,3.464200486925735,1.5551366112563878,2.43003779275822,1.9757484080525416,1.842052986886685,2.5083909348756706,1.4830208284649522,2.2492417380530143,1.4534840359587486,2.4082601659151215,1.7245960096827115,2.055232313976822,2.3864766862049804,1.2941874830844962,1.4888283051401054,2.682697011616882,3.013684612073235,2.8815951807656135,2.4010948867145347,1.2127047107560642,1.473516998248859,1.3590112393708729,1.5311074539842118,2.415477157095345,2.4596717405086173,2.409159446551265,2.402561300648241,1.3306152275135472,2.833011180909869,1.6455659603235613,5.267870016264639,5.732404001003233,1.058641444789786,1.990289311975053,8.635061060524327,4.479026956424471,3.0425026430557516,2.2629445482337176,3.338695405175441,2.577809700747254,2.7124066235738145,2.0458042114556205,1.5669836075094739,2.4975212626387666,2.4013180262892644,2.334007741915776,1.227774521254685,2.235346016223062,2.9580368762655556,1.4532674379391706,2.0018965851499297,2.838179151068312,2.0264432721508676,3.0248625384354786,1.9251406796119228,1.8344280929109882,1.2631074328115952,1.2802709031056827,0.5475827343727782,3.188704770500952,1.8384874667461648,0.9415255961875179,2.917286657603415,1.8965809739578603,3.1592269173638927,2.6651115643039227,2.070023836141364,3.8400691627334593,1.5718398719096027,1.8442239857599478,3.981762581362216,4.101957328793206,2.342177893155268,2.327975482334291,1.9085068504983251,2.7423980506054133,6.37348989251557,2.704820484931825,2.2103307114551756,2.478537971725989,2.967819775653288])                                                                                                                                                                                                                                                                                                                                                                                                                                                                                                                                                                                                                                                                                                                                                                                                                                                                                                                                                                                                            |0.0  |\n",
            "|(1000,[0,3,10,12,17,23,47,52,55,92,94,106,115,117,132,135,154,157,170,172,182,188,195,197,198,203,206,227,242,248,249,256,275,276,284,286,307,312,313,320,325,329,330,334,335,342,349,350,370,391,395,406,410,412,416,420,423,430,432,437,439,445,447,451,460,473,474,485,490,510,511,513,515,545,560,574,576,579,592,593,608,613,620,623,633,637,641,653,654,657,664,665,668,685,692,693,694,703,708,712,723,728,734,741,759,779,780,781,785,789,792,799,805,813,815,820,823,826,831,833,836,844,852,868,870,893,897,909,911,918,934,944,959,962,971,975,977],[1.5810339898834755,0.5894175938204624,5.24402304777346,2.274279436055449,2.9635035044829228,2.016977552619288,3.6242903883580926,2.5307452501316696,1.5555196796387776,2.1064092838854167,4.126315083399791,1.4871272438050815,1.9445968185639688,4.851887383557956,2.7157628433527696,2.9131111639922245,2.4587258903553395,1.9120599396939686,2.424800703884512,7.340105082259767,2.0512931298079993,3.3558756270009624,2.3506274575793307,1.8813400372319373,2.139864000349924,2.5412138763129812,2.2592591595216684,1.9551112660982097,2.6889257133503017,2.342809139888486,2.178576251726514,2.248283791816333,1.4987338341295084,2.3182756848927064,3.408298963704272,1.9757484080525416,3.2395077486246957,1.4830208284649522,2.2492417380530143,2.1001147459581224,2.3510518157439844,3.230774068655941,2.9069680719174973,2.095666266754702,1.3727193102907864,1.7661697612931848,4.329835005590948,1.6855541831136316,1.6997263511041822,1.266545339076943,2.3864766862049804,0.9845834268447168,1.4888283051401054,2.682697011616882,2.2009719863907056,3.013684612073235,2.4010948867145347,3.060906680103248,2.021088711816647,2.2020684777286346,2.4558616637480983,2.5304912818763365,1.3590112393708729,1.625025819114208,3.5182001918686527,2.5917509453093373,3.665301938371286,2.415477157095345,2.4596717405086173,1.8595543987224414,2.517373031191498,2.1067416754457313,3.714684695150652,5.5202625150824165,1.931677105081488,2.3127457168832453,2.74869530063445,2.8662020005016164,2.7617299789049055,2.237427576251791,3.5091221743172465,2.068422811143595,2.2395134782122357,2.8624041193821848,2.2629445482337176,2.2929270702356885,3.338695405175441,1.8177306991438966,3.553328266821742,2.7124066235738145,2.798892012593673,2.0986297196972568,2.642419221920355,1.982331710301739,3.622775236553082,3.898544082720819,2.47348806319461,2.377066396826185,1.227774521254685,2.1942748732871493,4.228834669377519,1.4532674379391706,2.4475589506038906,2.502694325043246,3.125515860021581,1.2806346585205555,2.0264432721508676,1.8833322020451255,2.446043710043527,1.9251406796119228,1.2631074328115952,2.186645873208662,3.8408127093170483,3.2359022850228607,1.6427482031183345,3.188704770500952,2.795907430706492,1.4823083874338379,2.527701879788758,2.575416400841413,2.2689868626896805,1.7256174022699478,3.0982662175742055,2.7926016425719924,2.3491436205291203,6.979574565605596,2.2762467788107834,2.066984076981263,2.0617263575484737,2.8950328262193255,2.560390416275189,2.055232313976822,6.37348989251557,3.1736156548159924,3.2317976101987282,1.7661697612931848,1.2727346355530946])|0.0  |\n",
            "|(1000,[3,6,7,11,34,42,49,69,77,78,89,94,99,112,113,116,127,144,154,157,164,165,167,168,181,187,196,197,206,220,222,228,231,238,240,242,284,289,290,307,312,315,317,318,323,326,349,356,370,372,375,377,381,398,403,452,463,466,473,476,480,481,483,490,495,499,513,519,524,532,535,547,560,563,583,585,591,602,612,623,628,633,639,658,664,679,694,705,708,722,728,734,743,758,763,765,787,800,803,817,826,830,836,837,840,841,855,865,868,877,880,889,899,918,926,944,947,948,949,951,964,974],[0.5894175938204624,3.362334441917682,2.026136523682205,2.0188026481829344,1.7840657292363356,2.8247975823724802,2.3930948440474586,2.162102581865664,2.834386696945179,2.0725908197424987,2.480710049326675,4.126315083399791,2.4653657060702905,3.151199876375655,2.3184810869679895,3.391502161702996,2.982077442917114,3.415672310072348,2.4587258903553395,1.2747066264626457,2.936083366049683,2.734893324951346,1.4431150664751524,0.917200972139278,3.024030245420309,2.735516572089002,2.3942021412484062,1.8813400372319373,2.2592591595216684,2.771376355956711,2.2715316423736502,2.107074177526933,2.712711269425371,2.5556918954936347,1.5551366112563878,5.3778514267006035,3.408298963704272,2.761090183617566,3.3600034385312063,3.2395077486246957,1.4830208284649522,1.9374141949096257,2.445810365041885,2.9410480506790857,1.9794004462946289,2.2345901582883605,2.164917502795474,2.394645403667011,1.6997263511041822,1.1717440352548676,5.821759700621578,3.316159240153028,3.554741694618889,3.0565843777731154,1.2941874830844962,2.8986958339780626,2.2897283469964966,3.115893792657519,5.1835018906186745,2.08016966759688,2.78930674667514,2.5168719036440526,3.2282197888508444,4.9193434810172345,2.362578090631121,1.94728594338878,2.1067416754457313,2.275459377195298,1.2012806503241205,2.5834164435084896,5.666022361819738,2.0172815039894094,1.931677105081488,2.10242917912879,3.36759915135779,1.636073373526805,2.799224183332486,3.980578623950106,2.8783536868414425,1.4312020596910924,2.9709706250501235,2.2629445482337176,3.742452570938449,3.3752530009092387,2.798892012593673,3.8356414209175425,4.94697612638922,3.2865193096882823,1.227774521254685,2.2717276631524808,2.906534875878341,1.2237794753019453,2.882316941894023,2.3538145419725915,1.5758396821297351,2.3818698995121355,8.173996304304268,2.552831407260498,1.8574794401255534,2.3937087612135666,1.4823083874338379,2.593372129128337,2.2689868626896805,2.0896021655690356,2.2915263696565034,2.5442987116641915,0.9415255961875179,2.31376748053605,2.7926016425719924,2.717292129474337,3.476550335146345,2.6651115643039227,2.4782969207425394,2.8950328262193255,3.5675532577530893,2.055232313976822,2.403104937642559,1.9085068504983251,2.7423980506054133,3.1804019145003517,1.9798395885105713,2.478537971725989])                                                                                                                                                                                                                                                                                                                                                                |0.0  |\n",
            "+-------------------------------------------------------------------------------------------------------------------------------------------------------------------------------------------------------------------------------------------------------------------------------------------------------------------------------------------------------------------------------------------------------------------------------------------------------------------------------------------------------------------------------------------------------------------------------------------------------------------------------------------------------------------------------------------------------------------------------------------------------------------------------------------------------------------------------------------------------------------------------------------------------------------------------------------------------------------------------------------------------------------------------------------------------------------------------------------------------------------------------------------------------------------------------------------------------------------------------------------------------------------------------------------------------------------------------------------------------------------------------------------------------------------------------------------------------------------------------------------------------------------------------------------------------------------------------------------------------------------------------------------------------------------------------------------------------------------------------------------------------------------------------------------------------------------------------------------------------------------------------------------------------------------------------------------------------------------------------------------------------------------------------------------------------------------------------------------------------------------------------------------------------------------------------------------------------------------------------------------------------------------------------------------------------------------------------------------------------------------------------------------------------------------------------------------------------------------------------------------------------------------------------------------------------------------------------------------------------------------------------------------------------------------------------------------------------------------------------------------------------------------------------------------------------------------------------------------------------------------------------------------------------------------------------------------------------------------------------------------------------------------------------------------------------------------------------------------------------------------------------------------------------------------------------------------------------------------+-----+\n",
            "\n"
          ]
        }
      ]
    },
    {
      "cell_type": "code",
      "source": [
        "# tipo lido pelo modelo.\n",
        "featureDF.printSchema()"
      ],
      "metadata": {
        "colab": {
          "base_uri": "https://localhost:8080/"
        },
        "id": "HrsnMDbhAKS1",
        "outputId": "2d353ffb-985f-411d-e699-c1d0b26e16ec"
      },
      "execution_count": null,
      "outputs": [
        {
          "output_type": "stream",
          "name": "stdout",
          "text": [
            "root\n",
            " |-- features: vector (nullable = true)\n",
            " |-- label: double (nullable = false)\n",
            "\n"
          ]
        }
      ]
    },
    {
      "cell_type": "code",
      "source": [
        "#Pipeline de transformação e ajuste\n",
        "from pyspark.ml import Pipeline\n",
        "from pyspark.ml.classification import DecisionTreeClassifier\n",
        "\n",
        "tokenizer = Tokenizer(inputCol=\"texto_limpo\", outputCol=\"tokens\")\n",
        "stopwords = StopWordsRemover(inputCol=\"tokens\", outputCol=\"texto_final\")\n",
        "hashingTF = HashingTF(inputCol=stopwords.getOutputCol(), outputCol=\"HTF\", numFeatures=1000)\n",
        "tfidf = IDF(inputCol=\"HTF\", outputCol=\"features\")\n",
        "dt = DecisionTreeClassifier(featuresCol='features', labelCol='label', maxDepth=10)\n",
        "\n",
        "pipeline = Pipeline(stages = [tokenizer,stopwords, hashingTF, tfidf, dt])"
      ],
      "metadata": {
        "id": "UX9fiKs5Au2O"
      },
      "execution_count": null,
      "outputs": []
    },
    {
      "cell_type": "code",
      "source": [],
      "metadata": {
        "id": "aj7YE5Dnu-fv"
      },
      "execution_count": null,
      "outputs": []
    },
    {
      "cell_type": "markdown",
      "metadata": {
        "id": "Bs8FxFdZ2Ys6"
      },
      "source": [
        "#### **Amostra e Treino**"
      ]
    },
    {
      "cell_type": "code",
      "source": [
        "# separando nossos dados\n",
        "train, test = dados.randomSplit([0.7, 0.3], seed = 101)"
      ],
      "metadata": {
        "id": "UAifmEetv1xF"
      },
      "execution_count": null,
      "outputs": []
    },
    {
      "cell_type": "code",
      "execution_count": null,
      "metadata": {
        "id": "MbnB0x-hFXxN"
      },
      "outputs": [],
      "source": [
        "# ajustando o modelo com a pipeline\n",
        "dt_model = pipeline.fit(train)"
      ]
    },
    {
      "cell_type": "code",
      "execution_count": null,
      "metadata": {
        "id": "bsypk5GPktRd"
      },
      "outputs": [],
      "source": [
        "# aplicando na base teste\n",
        "predictions = dt_model.transform(test)"
      ]
    },
    {
      "cell_type": "code",
      "source": [],
      "metadata": {
        "id": "gxRQJI8QwFi_"
      },
      "execution_count": null,
      "outputs": []
    },
    {
      "cell_type": "code",
      "source": [
        "predictions.show()"
      ],
      "metadata": {
        "id": "yW_6106BvlwO"
      },
      "execution_count": null,
      "outputs": []
    },
    {
      "cell_type": "markdown",
      "metadata": {
        "id": "zADCYZArUzht"
      },
      "source": [
        "#### **Teste e Métricas**\n"
      ]
    },
    {
      "cell_type": "code",
      "source": [
        "predictions.select(['label','prediction']).show()"
      ],
      "metadata": {
        "colab": {
          "base_uri": "https://localhost:8080/"
        },
        "id": "x93JktoSXU7v",
        "outputId": "3c592418-a076-4e5b-a30a-17551f8d1c27"
      },
      "execution_count": null,
      "outputs": [
        {
          "output_type": "stream",
          "name": "stdout",
          "text": [
            "+-----+----------+\n",
            "|label|prediction|\n",
            "+-----+----------+\n",
            "|  0.0|       1.0|\n",
            "|  0.0|       1.0|\n",
            "|  0.0|       1.0|\n",
            "|  0.0|       1.0|\n",
            "|  0.0|       0.0|\n",
            "|  0.0|       0.0|\n",
            "|  0.0|       1.0|\n",
            "|  0.0|       0.0|\n",
            "|  0.0|       1.0|\n",
            "|  0.0|       1.0|\n",
            "|  0.0|       0.0|\n",
            "|  0.0|       0.0|\n",
            "|  0.0|       0.0|\n",
            "|  0.0|       0.0|\n",
            "|  0.0|       1.0|\n",
            "|  0.0|       0.0|\n",
            "|  0.0|       0.0|\n",
            "|  0.0|       0.0|\n",
            "|  0.0|       0.0|\n",
            "|  0.0|       0.0|\n",
            "+-----+----------+\n",
            "only showing top 20 rows\n",
            "\n"
          ]
        }
      ]
    },
    {
      "cell_type": "code",
      "execution_count": null,
      "metadata": {
        "id": "xeY53cZVViHe"
      },
      "outputs": [],
      "source": [
        "#acuracia\n",
        "from pyspark.ml.evaluation import MulticlassClassificationEvaluator\n",
        "evaluator = MulticlassClassificationEvaluator(labelCol='label', predictionCol='prediction', metricName='accuracy')\n",
        "\n",
        "acuracia = evaluator.evaluate(predictions)\n",
        "\n",
        "\n"
      ]
    },
    {
      "cell_type": "code",
      "source": [
        "print(\"Acuracia = %s\" % (acuracia))"
      ],
      "metadata": {
        "colab": {
          "base_uri": "https://localhost:8080/"
        },
        "id": "YT_sFf3ZiEA6",
        "outputId": "7da267d2-077e-4a9b-9ce5-cb949fb9ee6a"
      },
      "execution_count": null,
      "outputs": [
        {
          "output_type": "stream",
          "name": "stdout",
          "text": [
            "Acuracia = 0.6700404858299596\n"
          ]
        }
      ]
    },
    {
      "cell_type": "markdown",
      "metadata": {
        "id": "hYcpkxb-guye"
      },
      "source": [
        "#### **Nova frase**"
      ]
    },
    {
      "cell_type": "code",
      "source": [
        "# Este é sem dúvida o pior filme que já vi, odiei a atuação dos atores.\n",
        "# Adorei o filme, excelente atuação!"
      ],
      "metadata": {
        "id": "XA6LaJ9QibZK"
      },
      "execution_count": null,
      "outputs": []
    },
    {
      "cell_type": "code",
      "source": [
        "nova_base = spark.createDataFrame([\n",
        "    (1, \"This is without doubt the worst movie i have ever seen, I hated the acting of the actors.\"),\n",
        "    (0, \"I loved the movie, excellent acting!\"),\n",
        "], [\"id\", \"texto_limpo\"])"
      ],
      "metadata": {
        "id": "_Efi0Ohnk6q-"
      },
      "execution_count": null,
      "outputs": []
    },
    {
      "cell_type": "code",
      "source": [
        "nova_class = dt_model.transform(nova_base)"
      ],
      "metadata": {
        "id": "rsiD9uW9jGv4"
      },
      "execution_count": null,
      "outputs": []
    },
    {
      "cell_type": "code",
      "source": [
        "nova_class.show()"
      ],
      "metadata": {
        "colab": {
          "base_uri": "https://localhost:8080/"
        },
        "id": "_SRHKAnGk9Gn",
        "outputId": "5c9936d0-1d3f-417d-95cb-7734b428538d"
      },
      "execution_count": null,
      "outputs": [
        {
          "output_type": "stream",
          "name": "stdout",
          "text": [
            "+---+--------------------+--------------------+--------------------+--------------------+--------------------+-------------+--------------------+----------+\n",
            "| id|         texto_limpo|              tokens|         texto_final|                 HTF|            features|rawPrediction|         probability|prediction|\n",
            "+---+--------------------+--------------------+--------------------+--------------------+--------------------+-------------+--------------------+----------+\n",
            "|  1|This is without d...|[this, is, withou...|[without, doubt, ...|(1000,[35,43,269,...|(1000,[35,43,269,...|  [18.0,10.0]|[0.64285714285714...|       0.0|\n",
            "|  0|I loved the movie...|[i, loved, the, m...|[loved, movie,, e...|(1000,[185,543,73...|(1000,[185,543,73...|[156.0,774.0]|[0.16774193548387...|       1.0|\n",
            "+---+--------------------+--------------------+--------------------+--------------------+--------------------+-------------+--------------------+----------+\n",
            "\n"
          ]
        }
      ]
    }
  ],
  "metadata": {
    "colab": {
      "collapsed_sections": [
        "WEx2aGrYUKdC",
        "wIeTUmHQUU1g",
        "Idqhn1RfZhcZ",
        "V8ZU73LZ-Pdk",
        "WT6ThIXvLPHb",
        "W4zF6PSoSLnM",
        "Bs8FxFdZ2Ys6",
        "zADCYZArUzht",
        "hYcpkxb-guye"
      ],
      "provenance": [],
      "include_colab_link": true
    },
    "kernelspec": {
      "display_name": "Python 3",
      "name": "python3"
    },
    "language_info": {
      "name": "python"
    }
  },
  "nbformat": 4,
  "nbformat_minor": 0
}